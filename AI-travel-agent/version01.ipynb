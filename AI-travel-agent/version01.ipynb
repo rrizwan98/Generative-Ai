{
 "cells": [
  {
   "cell_type": "code",
   "execution_count": 1,
   "metadata": {},
   "outputs": [],
   "source": [
    "# Import libraries\n",
    "import plotly.express as px\n",
    "import pandas as pd"
   ]
  },
  {
   "cell_type": "code",
   "execution_count": 2,
   "metadata": {},
   "outputs": [
    {
     "name": "stdout",
     "output_type": "stream",
     "text": [
      "         city           state population                 lat  \\\n",
      "1  Marysville      Washington      63269          48.0517637   \n",
      "2      Perris      California      72326          33.7825194   \n",
      "3   Cleveland            Ohio     390113  41.499320000000004   \n",
      "4   Worcester   Massachusetts     182544  42.262593200000005   \n",
      "5    Columbia  South Carolina     133358          34.0007104   \n",
      "\n",
      "                   lon  \n",
      "1         -122.1770818  \n",
      "2  -117.22864779999999  \n",
      "3          -81.6943605  \n",
      "4          -71.8022934  \n",
      "5          -81.0348144  \n"
     ]
    }
   ],
   "source": [
    "locations = pd.read_csv(\n",
    "    \"https://raw.githubusercontent.com/plotly/datasets/master/us-cities-top-1k.csv\", # provide the file name of your dataset\n",
    "    # names=[\"country_code\", \"lat\", \"lon\", \"country\", \"usa_state_code\", \"usa_state_lat\", \"usa_state_lon\", \"usa_state\"], # provide the column names of your dataset\n",
    "    # names = [\"country\", \"city\",\"accentCity\",\"region\",\"population\",\"lat\", \"lon\"]\n",
    "    names = [\"city\", \"state\",\"population\",\"lat\", \"lon\"]\n",
    ")\n",
    "locations = locations.drop(0)\n",
    "print(locations.head())"
   ]
  },
  {
   "cell_type": "code",
   "execution_count": 8,
   "metadata": {},
   "outputs": [
    {
     "data": {
      "application/vnd.plotly.v1+json": {
       "config": {
        "plotlyServerURL": "https://plot.ly"
       },
       "data": [
        {
         "hovertemplate": "<b>%{hovertext}</b><br><br>lat=%{lat}<br>lon=%{lon}<extra></extra>",
         "hovertext": [
          "Perris"
         ],
         "lat": [
          "33.7825194"
         ],
         "legendgroup": "",
         "lon": [
          "-117.22864779999999"
         ],
         "marker": {
          "color": "fuchsia"
         },
         "mode": "markers",
         "name": "",
         "showlegend": false,
         "subplot": "mapbox",
         "type": "scattermapbox"
        }
       ],
       "layout": {
        "height": 500,
        "legend": {
         "tracegroupgap": 0
        },
        "mapbox": {
         "center": {
          "lat": 33.7825194,
          "lon": -117.22864779999999
         },
         "domain": {
          "x": [
           0,
           1
          ],
          "y": [
           0,
           1
          ]
         },
         "style": "open-street-map",
         "zoom": 3
        },
        "margin": {
         "b": 0,
         "l": 0,
         "r": 0,
         "t": 0
        },
        "template": {
         "data": {
          "bar": [
           {
            "error_x": {
             "color": "#2a3f5f"
            },
            "error_y": {
             "color": "#2a3f5f"
            },
            "marker": {
             "line": {
              "color": "#E5ECF6",
              "width": 0.5
             },
             "pattern": {
              "fillmode": "overlay",
              "size": 10,
              "solidity": 0.2
             }
            },
            "type": "bar"
           }
          ],
          "barpolar": [
           {
            "marker": {
             "line": {
              "color": "#E5ECF6",
              "width": 0.5
             },
             "pattern": {
              "fillmode": "overlay",
              "size": 10,
              "solidity": 0.2
             }
            },
            "type": "barpolar"
           }
          ],
          "carpet": [
           {
            "aaxis": {
             "endlinecolor": "#2a3f5f",
             "gridcolor": "white",
             "linecolor": "white",
             "minorgridcolor": "white",
             "startlinecolor": "#2a3f5f"
            },
            "baxis": {
             "endlinecolor": "#2a3f5f",
             "gridcolor": "white",
             "linecolor": "white",
             "minorgridcolor": "white",
             "startlinecolor": "#2a3f5f"
            },
            "type": "carpet"
           }
          ],
          "choropleth": [
           {
            "colorbar": {
             "outlinewidth": 0,
             "ticks": ""
            },
            "type": "choropleth"
           }
          ],
          "contour": [
           {
            "colorbar": {
             "outlinewidth": 0,
             "ticks": ""
            },
            "colorscale": [
             [
              0,
              "#0d0887"
             ],
             [
              0.1111111111111111,
              "#46039f"
             ],
             [
              0.2222222222222222,
              "#7201a8"
             ],
             [
              0.3333333333333333,
              "#9c179e"
             ],
             [
              0.4444444444444444,
              "#bd3786"
             ],
             [
              0.5555555555555556,
              "#d8576b"
             ],
             [
              0.6666666666666666,
              "#ed7953"
             ],
             [
              0.7777777777777778,
              "#fb9f3a"
             ],
             [
              0.8888888888888888,
              "#fdca26"
             ],
             [
              1,
              "#f0f921"
             ]
            ],
            "type": "contour"
           }
          ],
          "contourcarpet": [
           {
            "colorbar": {
             "outlinewidth": 0,
             "ticks": ""
            },
            "type": "contourcarpet"
           }
          ],
          "heatmap": [
           {
            "colorbar": {
             "outlinewidth": 0,
             "ticks": ""
            },
            "colorscale": [
             [
              0,
              "#0d0887"
             ],
             [
              0.1111111111111111,
              "#46039f"
             ],
             [
              0.2222222222222222,
              "#7201a8"
             ],
             [
              0.3333333333333333,
              "#9c179e"
             ],
             [
              0.4444444444444444,
              "#bd3786"
             ],
             [
              0.5555555555555556,
              "#d8576b"
             ],
             [
              0.6666666666666666,
              "#ed7953"
             ],
             [
              0.7777777777777778,
              "#fb9f3a"
             ],
             [
              0.8888888888888888,
              "#fdca26"
             ],
             [
              1,
              "#f0f921"
             ]
            ],
            "type": "heatmap"
           }
          ],
          "heatmapgl": [
           {
            "colorbar": {
             "outlinewidth": 0,
             "ticks": ""
            },
            "colorscale": [
             [
              0,
              "#0d0887"
             ],
             [
              0.1111111111111111,
              "#46039f"
             ],
             [
              0.2222222222222222,
              "#7201a8"
             ],
             [
              0.3333333333333333,
              "#9c179e"
             ],
             [
              0.4444444444444444,
              "#bd3786"
             ],
             [
              0.5555555555555556,
              "#d8576b"
             ],
             [
              0.6666666666666666,
              "#ed7953"
             ],
             [
              0.7777777777777778,
              "#fb9f3a"
             ],
             [
              0.8888888888888888,
              "#fdca26"
             ],
             [
              1,
              "#f0f921"
             ]
            ],
            "type": "heatmapgl"
           }
          ],
          "histogram": [
           {
            "marker": {
             "pattern": {
              "fillmode": "overlay",
              "size": 10,
              "solidity": 0.2
             }
            },
            "type": "histogram"
           }
          ],
          "histogram2d": [
           {
            "colorbar": {
             "outlinewidth": 0,
             "ticks": ""
            },
            "colorscale": [
             [
              0,
              "#0d0887"
             ],
             [
              0.1111111111111111,
              "#46039f"
             ],
             [
              0.2222222222222222,
              "#7201a8"
             ],
             [
              0.3333333333333333,
              "#9c179e"
             ],
             [
              0.4444444444444444,
              "#bd3786"
             ],
             [
              0.5555555555555556,
              "#d8576b"
             ],
             [
              0.6666666666666666,
              "#ed7953"
             ],
             [
              0.7777777777777778,
              "#fb9f3a"
             ],
             [
              0.8888888888888888,
              "#fdca26"
             ],
             [
              1,
              "#f0f921"
             ]
            ],
            "type": "histogram2d"
           }
          ],
          "histogram2dcontour": [
           {
            "colorbar": {
             "outlinewidth": 0,
             "ticks": ""
            },
            "colorscale": [
             [
              0,
              "#0d0887"
             ],
             [
              0.1111111111111111,
              "#46039f"
             ],
             [
              0.2222222222222222,
              "#7201a8"
             ],
             [
              0.3333333333333333,
              "#9c179e"
             ],
             [
              0.4444444444444444,
              "#bd3786"
             ],
             [
              0.5555555555555556,
              "#d8576b"
             ],
             [
              0.6666666666666666,
              "#ed7953"
             ],
             [
              0.7777777777777778,
              "#fb9f3a"
             ],
             [
              0.8888888888888888,
              "#fdca26"
             ],
             [
              1,
              "#f0f921"
             ]
            ],
            "type": "histogram2dcontour"
           }
          ],
          "mesh3d": [
           {
            "colorbar": {
             "outlinewidth": 0,
             "ticks": ""
            },
            "type": "mesh3d"
           }
          ],
          "parcoords": [
           {
            "line": {
             "colorbar": {
              "outlinewidth": 0,
              "ticks": ""
             }
            },
            "type": "parcoords"
           }
          ],
          "pie": [
           {
            "automargin": true,
            "type": "pie"
           }
          ],
          "scatter": [
           {
            "fillpattern": {
             "fillmode": "overlay",
             "size": 10,
             "solidity": 0.2
            },
            "type": "scatter"
           }
          ],
          "scatter3d": [
           {
            "line": {
             "colorbar": {
              "outlinewidth": 0,
              "ticks": ""
             }
            },
            "marker": {
             "colorbar": {
              "outlinewidth": 0,
              "ticks": ""
             }
            },
            "type": "scatter3d"
           }
          ],
          "scattercarpet": [
           {
            "marker": {
             "colorbar": {
              "outlinewidth": 0,
              "ticks": ""
             }
            },
            "type": "scattercarpet"
           }
          ],
          "scattergeo": [
           {
            "marker": {
             "colorbar": {
              "outlinewidth": 0,
              "ticks": ""
             }
            },
            "type": "scattergeo"
           }
          ],
          "scattergl": [
           {
            "marker": {
             "colorbar": {
              "outlinewidth": 0,
              "ticks": ""
             }
            },
            "type": "scattergl"
           }
          ],
          "scattermapbox": [
           {
            "marker": {
             "colorbar": {
              "outlinewidth": 0,
              "ticks": ""
             }
            },
            "type": "scattermapbox"
           }
          ],
          "scatterpolar": [
           {
            "marker": {
             "colorbar": {
              "outlinewidth": 0,
              "ticks": ""
             }
            },
            "type": "scatterpolar"
           }
          ],
          "scatterpolargl": [
           {
            "marker": {
             "colorbar": {
              "outlinewidth": 0,
              "ticks": ""
             }
            },
            "type": "scatterpolargl"
           }
          ],
          "scatterternary": [
           {
            "marker": {
             "colorbar": {
              "outlinewidth": 0,
              "ticks": ""
             }
            },
            "type": "scatterternary"
           }
          ],
          "surface": [
           {
            "colorbar": {
             "outlinewidth": 0,
             "ticks": ""
            },
            "colorscale": [
             [
              0,
              "#0d0887"
             ],
             [
              0.1111111111111111,
              "#46039f"
             ],
             [
              0.2222222222222222,
              "#7201a8"
             ],
             [
              0.3333333333333333,
              "#9c179e"
             ],
             [
              0.4444444444444444,
              "#bd3786"
             ],
             [
              0.5555555555555556,
              "#d8576b"
             ],
             [
              0.6666666666666666,
              "#ed7953"
             ],
             [
              0.7777777777777778,
              "#fb9f3a"
             ],
             [
              0.8888888888888888,
              "#fdca26"
             ],
             [
              1,
              "#f0f921"
             ]
            ],
            "type": "surface"
           }
          ],
          "table": [
           {
            "cells": {
             "fill": {
              "color": "#EBF0F8"
             },
             "line": {
              "color": "white"
             }
            },
            "header": {
             "fill": {
              "color": "#C8D4E3"
             },
             "line": {
              "color": "white"
             }
            },
            "type": "table"
           }
          ]
         },
         "layout": {
          "annotationdefaults": {
           "arrowcolor": "#2a3f5f",
           "arrowhead": 0,
           "arrowwidth": 1
          },
          "autotypenumbers": "strict",
          "coloraxis": {
           "colorbar": {
            "outlinewidth": 0,
            "ticks": ""
           }
          },
          "colorscale": {
           "diverging": [
            [
             0,
             "#8e0152"
            ],
            [
             0.1,
             "#c51b7d"
            ],
            [
             0.2,
             "#de77ae"
            ],
            [
             0.3,
             "#f1b6da"
            ],
            [
             0.4,
             "#fde0ef"
            ],
            [
             0.5,
             "#f7f7f7"
            ],
            [
             0.6,
             "#e6f5d0"
            ],
            [
             0.7,
             "#b8e186"
            ],
            [
             0.8,
             "#7fbc41"
            ],
            [
             0.9,
             "#4d9221"
            ],
            [
             1,
             "#276419"
            ]
           ],
           "sequential": [
            [
             0,
             "#0d0887"
            ],
            [
             0.1111111111111111,
             "#46039f"
            ],
            [
             0.2222222222222222,
             "#7201a8"
            ],
            [
             0.3333333333333333,
             "#9c179e"
            ],
            [
             0.4444444444444444,
             "#bd3786"
            ],
            [
             0.5555555555555556,
             "#d8576b"
            ],
            [
             0.6666666666666666,
             "#ed7953"
            ],
            [
             0.7777777777777778,
             "#fb9f3a"
            ],
            [
             0.8888888888888888,
             "#fdca26"
            ],
            [
             1,
             "#f0f921"
            ]
           ],
           "sequentialminus": [
            [
             0,
             "#0d0887"
            ],
            [
             0.1111111111111111,
             "#46039f"
            ],
            [
             0.2222222222222222,
             "#7201a8"
            ],
            [
             0.3333333333333333,
             "#9c179e"
            ],
            [
             0.4444444444444444,
             "#bd3786"
            ],
            [
             0.5555555555555556,
             "#d8576b"
            ],
            [
             0.6666666666666666,
             "#ed7953"
            ],
            [
             0.7777777777777778,
             "#fb9f3a"
            ],
            [
             0.8888888888888888,
             "#fdca26"
            ],
            [
             1,
             "#f0f921"
            ]
           ]
          },
          "colorway": [
           "#636efa",
           "#EF553B",
           "#00cc96",
           "#ab63fa",
           "#FFA15A",
           "#19d3f3",
           "#FF6692",
           "#B6E880",
           "#FF97FF",
           "#FECB52"
          ],
          "font": {
           "color": "#2a3f5f"
          },
          "geo": {
           "bgcolor": "white",
           "lakecolor": "white",
           "landcolor": "#E5ECF6",
           "showlakes": true,
           "showland": true,
           "subunitcolor": "white"
          },
          "hoverlabel": {
           "align": "left"
          },
          "hovermode": "closest",
          "mapbox": {
           "style": "light"
          },
          "paper_bgcolor": "white",
          "plot_bgcolor": "#E5ECF6",
          "polar": {
           "angularaxis": {
            "gridcolor": "white",
            "linecolor": "white",
            "ticks": ""
           },
           "bgcolor": "#E5ECF6",
           "radialaxis": {
            "gridcolor": "white",
            "linecolor": "white",
            "ticks": ""
           }
          },
          "scene": {
           "xaxis": {
            "backgroundcolor": "#E5ECF6",
            "gridcolor": "white",
            "gridwidth": 2,
            "linecolor": "white",
            "showbackground": true,
            "ticks": "",
            "zerolinecolor": "white"
           },
           "yaxis": {
            "backgroundcolor": "#E5ECF6",
            "gridcolor": "white",
            "gridwidth": 2,
            "linecolor": "white",
            "showbackground": true,
            "ticks": "",
            "zerolinecolor": "white"
           },
           "zaxis": {
            "backgroundcolor": "#E5ECF6",
            "gridcolor": "white",
            "gridwidth": 2,
            "linecolor": "white",
            "showbackground": true,
            "ticks": "",
            "zerolinecolor": "white"
           }
          },
          "shapedefaults": {
           "line": {
            "color": "#2a3f5f"
           }
          },
          "ternary": {
           "aaxis": {
            "gridcolor": "white",
            "linecolor": "white",
            "ticks": ""
           },
           "baxis": {
            "gridcolor": "white",
            "linecolor": "white",
            "ticks": ""
           },
           "bgcolor": "#E5ECF6",
           "caxis": {
            "gridcolor": "white",
            "linecolor": "white",
            "ticks": ""
           }
          },
          "title": {
           "x": 0.05
          },
          "xaxis": {
           "automargin": true,
           "gridcolor": "white",
           "linecolor": "white",
           "ticks": "",
           "title": {
            "standoff": 15
           },
           "zerolinecolor": "white",
           "zerolinewidth": 2
          },
          "yaxis": {
           "automargin": true,
           "gridcolor": "white",
           "linecolor": "white",
           "ticks": "",
           "title": {
            "standoff": 15
           },
           "zerolinecolor": "white",
           "zerolinewidth": 2
          }
         }
        }
       }
      }
     },
     "metadata": {},
     "output_type": "display_data"
    }
   ],
   "source": [
    "# Ask the user where they want to go\n",
    "user_input = input(\"Where do you want to go in these locations? \")\n",
    "\n",
    "# Filter the data frame based on the user's input\n",
    "filtered_locations = locations.query(\"city == @user_input\")\n",
    "\n",
    "# Create a world map with the selected location as a point\n",
    "fig = px.scatter_mapbox(\n",
    "    filtered_locations,\n",
    "    lat=\"lat\",\n",
    "    lon=\"lon\",\n",
    "    hover_name=\"city\",\n",
    "    color_discrete_sequence=[\"fuchsia\"],\n",
    "    zoom=3,\n",
    "    height=500,\n",
    "    center={\"lat\": float(filtered_locations[\"lat\"].iloc[0]), \"lon\": float(filtered_locations[\"lon\"].iloc[0])}\n",
    ")\n",
    "\n",
    "# Update the layout of the map\n",
    "fig.update_layout(\n",
    "    mapbox_style=\"open-street-map\", # you can change the style of the map\n",
    "    # mapbox_style=\"light\", # you can change the style of the map\n",
    "    margin={\"r\":0,\"t\":0,\"l\":0,\"b\":0}\n",
    ")\n",
    "\n",
    "# Show the map\n",
    "# fig.write_html('map.html', auto_open=True)\n",
    "fig.show()\n"
   ]
  },
  {
   "cell_type": "code",
   "execution_count": 13,
   "metadata": {},
   "outputs": [
    {
     "ename": "ValueError",
     "evalue": "\n    Invalid value of type 'plotly.graph_objs.scattermapbox._marker.Marker' received for the 'marker' property of scattergeo\n        Received value: scattermapbox.Marker({\n    'size': 3\n})\n\n    The 'marker' property is an instance of Marker\n    that may be specified as:\n      - An instance of :class:`plotly.graph_objs.scattergeo.Marker`\n      - A dict of string/value properties that will be passed\n        to the Marker constructor\n\n        Supported dict properties:\n            \n            angle\n                Sets the marker angle in respect to `angleref`.\n            angleref\n                Sets the reference for marker angle. With\n                \"previous\", angle 0 points along the line from\n                the previous point to this one. With \"up\",\n                angle 0 points toward the top of the screen.\n                With \"north\", angle 0 points north based on the\n                current map projection.\n            anglesrc\n                Sets the source reference on Chart Studio Cloud\n                for `angle`.\n            autocolorscale\n                Determines whether the colorscale is a default\n                palette (`autocolorscale: true`) or the palette\n                determined by `marker.colorscale`. Has an\n                effect only if in `marker.color` is set to a\n                numerical array. In case `colorscale` is\n                unspecified or `autocolorscale` is true, the\n                default palette will be chosen according to\n                whether numbers in the `color` array are all\n                positive, all negative or mixed.\n            cauto\n                Determines whether or not the color domain is\n                computed with respect to the input data (here\n                in `marker.color`) or the bounds set in\n                `marker.cmin` and `marker.cmax` Has an effect\n                only if in `marker.color` is set to a numerical\n                array. Defaults to `false` when `marker.cmin`\n                and `marker.cmax` are set by the user.\n            cmax\n                Sets the upper bound of the color domain. Has\n                an effect only if in `marker.color` is set to a\n                numerical array. Value should have the same\n                units as in `marker.color` and if set,\n                `marker.cmin` must be set as well.\n            cmid\n                Sets the mid-point of the color domain by\n                scaling `marker.cmin` and/or `marker.cmax` to\n                be equidistant to this point. Has an effect\n                only if in `marker.color` is set to a numerical\n                array. Value should have the same units as in\n                `marker.color`. Has no effect when\n                `marker.cauto` is `false`.\n            cmin\n                Sets the lower bound of the color domain. Has\n                an effect only if in `marker.color` is set to a\n                numerical array. Value should have the same\n                units as in `marker.color` and if set,\n                `marker.cmax` must be set as well.\n            color\n                Sets the marker color. It accepts either a\n                specific color or an array of numbers that are\n                mapped to the colorscale relative to the max\n                and min values of the array or relative to\n                `marker.cmin` and `marker.cmax` if set.\n            coloraxis\n                Sets a reference to a shared color axis.\n                References to these shared color axes are\n                \"coloraxis\", \"coloraxis2\", \"coloraxis3\", etc.\n                Settings for these shared color axes are set in\n                the layout, under `layout.coloraxis`,\n                `layout.coloraxis2`, etc. Note that multiple\n                color scales can be linked to the same color\n                axis.\n            colorbar\n                :class:`plotly.graph_objects.scattergeo.marker.\n                ColorBar` instance or dict with compatible\n                properties\n            colorscale\n                Sets the colorscale. Has an effect only if in\n                `marker.color` is set to a numerical array. The\n                colorscale must be an array containing arrays\n                mapping a normalized value to an rgb, rgba,\n                hex, hsl, hsv, or named color string. At\n                minimum, a mapping for the lowest (0) and\n                highest (1) values are required. For example,\n                `[[0, 'rgb(0,0,255)'], [1, 'rgb(255,0,0)']]`.\n                To control the bounds of the colorscale in\n                color space, use `marker.cmin` and\n                `marker.cmax`. Alternatively, `colorscale` may\n                be a palette name string of the following list:\n                Blackbody,Bluered,Blues,Cividis,Earth,Electric,\n                Greens,Greys,Hot,Jet,Picnic,Portland,Rainbow,Rd\n                Bu,Reds,Viridis,YlGnBu,YlOrRd.\n            colorsrc\n                Sets the source reference on Chart Studio Cloud\n                for `color`.\n            gradient\n                :class:`plotly.graph_objects.scattergeo.marker.\n                Gradient` instance or dict with compatible\n                properties\n            line\n                :class:`plotly.graph_objects.scattergeo.marker.\n                Line` instance or dict with compatible\n                properties\n            opacity\n                Sets the marker opacity.\n            opacitysrc\n                Sets the source reference on Chart Studio Cloud\n                for `opacity`.\n            reversescale\n                Reverses the color mapping if true. Has an\n                effect only if in `marker.color` is set to a\n                numerical array. If true, `marker.cmin` will\n                correspond to the last color in the array and\n                `marker.cmax` will correspond to the first\n                color.\n            showscale\n                Determines whether or not a colorbar is\n                displayed for this trace. Has an effect only if\n                in `marker.color` is set to a numerical array.\n            size\n                Sets the marker size (in px).\n            sizemin\n                Has an effect only if `marker.size` is set to a\n                numerical array. Sets the minimum size (in px)\n                of the rendered marker points.\n            sizemode\n                Has an effect only if `marker.size` is set to a\n                numerical array. Sets the rule for which the\n                data in `size` is converted to pixels.\n            sizeref\n                Has an effect only if `marker.size` is set to a\n                numerical array. Sets the scale factor used to\n                determine the rendered size of marker points.\n                Use with `sizemin` and `sizemode`.\n            sizesrc\n                Sets the source reference on Chart Studio Cloud\n                for `size`.\n            standoff\n                Moves the marker away from the data point in\n                the direction of `angle` (in px). This can be\n                useful for example if you have another marker\n                at this location and you want to point an\n                arrowhead marker at it.\n            standoffsrc\n                Sets the source reference on Chart Studio Cloud\n                for `standoff`.\n            symbol\n                Sets the marker symbol type. Adding 100 is\n                equivalent to appending \"-open\" to a symbol\n                name. Adding 200 is equivalent to appending\n                \"-dot\" to a symbol name. Adding 300 is\n                equivalent to appending \"-open-dot\" or \"dot-\n                open\" to a symbol name.\n            symbolsrc\n                Sets the source reference on Chart Studio Cloud\n                for `symbol`.\n",
     "output_type": "error",
     "traceback": [
      "\u001b[1;31m---------------------------------------------------------------------------\u001b[0m",
      "\u001b[1;31mValueError\u001b[0m                                Traceback (most recent call last)",
      "Cell \u001b[1;32mIn[13], line 10\u001b[0m\n\u001b[0;32m      7\u001b[0m \u001b[38;5;66;03m# Filter the data frame based on the user's input\u001b[39;00m\n\u001b[0;32m      8\u001b[0m filtered_locations \u001b[38;5;241m=\u001b[39m locations\u001b[38;5;241m.\u001b[39mquery(\u001b[38;5;124m\"\u001b[39m\u001b[38;5;124mcity == @user_input\u001b[39m\u001b[38;5;124m\"\u001b[39m)\n\u001b[1;32m---> 10\u001b[0m fig \u001b[38;5;241m=\u001b[39m go\u001b[38;5;241m.\u001b[39mFigure(\u001b[43mgo\u001b[49m\u001b[38;5;241;43m.\u001b[39;49m\u001b[43mScattergeo\u001b[49m\u001b[43m(\u001b[49m\n\u001b[0;32m     11\u001b[0m \u001b[43m    \u001b[49m\u001b[43mlon\u001b[49m\u001b[43m \u001b[49m\u001b[38;5;241;43m=\u001b[39;49m\u001b[43m \u001b[49m\u001b[43mlocations\u001b[49m\u001b[43m[\u001b[49m\u001b[38;5;124;43m'\u001b[39;49m\u001b[38;5;124;43mlon\u001b[39;49m\u001b[38;5;124;43m'\u001b[39;49m\u001b[43m]\u001b[49m\u001b[43m,\u001b[49m\n\u001b[0;32m     12\u001b[0m \u001b[43m    \u001b[49m\u001b[43mlat\u001b[49m\u001b[43m \u001b[49m\u001b[38;5;241;43m=\u001b[39;49m\u001b[43m \u001b[49m\u001b[43mlocations\u001b[49m\u001b[43m[\u001b[49m\u001b[38;5;124;43m'\u001b[39;49m\u001b[38;5;124;43mlat\u001b[39;49m\u001b[38;5;124;43m'\u001b[39;49m\u001b[43m]\u001b[49m\u001b[43m,\u001b[49m\n\u001b[0;32m     13\u001b[0m \u001b[43m    \u001b[49m\u001b[43mmode\u001b[49m\u001b[38;5;241;43m=\u001b[39;49m\u001b[38;5;124;43m'\u001b[39;49m\u001b[38;5;124;43mmarkers\u001b[39;49m\u001b[38;5;124;43m'\u001b[39;49m\u001b[43m,\u001b[49m\n\u001b[0;32m     14\u001b[0m \u001b[43m    \u001b[49m\u001b[43mmarker\u001b[49m\u001b[38;5;241;43m=\u001b[39;49m\u001b[43mgo\u001b[49m\u001b[38;5;241;43m.\u001b[39;49m\u001b[43mscattermapbox\u001b[49m\u001b[38;5;241;43m.\u001b[39;49m\u001b[43mMarker\u001b[49m\u001b[43m(\u001b[49m\n\u001b[0;32m     15\u001b[0m \u001b[43m        \u001b[49m\u001b[43msize\u001b[49m\u001b[38;5;241;43m=\u001b[39;49m\u001b[38;5;241;43m3\u001b[39;49m\u001b[43m)\u001b[49m\n\u001b[0;32m     16\u001b[0m \u001b[43m    \u001b[49m\n\u001b[0;32m     17\u001b[0m \u001b[43m    \u001b[49m\u001b[43m)\u001b[49m)\n\u001b[0;32m     18\u001b[0m \u001b[38;5;66;03m# fig.update_geos(\u001b[39;00m\n\u001b[0;32m     19\u001b[0m \u001b[38;5;66;03m#     visible=False, resolution=50, \u001b[39;00m\n\u001b[0;32m     20\u001b[0m \u001b[38;5;66;03m#     showcountries=True, countrycolor=\"Black\",\u001b[39;00m\n\u001b[0;32m     21\u001b[0m \u001b[38;5;66;03m#     showsubunits=True, subunitcolor=\"Blue\")\u001b[39;00m\n\u001b[0;32m     23\u001b[0m \u001b[38;5;28mprint\u001b[39m(filtered_locations)\n",
      "File \u001b[1;32mc:\\Users\\TEXON WARE\\AppData\\Local\\Programs\\Python\\lib\\site-packages\\plotly\\graph_objs\\_scattergeo.py:2348\u001b[0m, in \u001b[0;36mScattergeo.__init__\u001b[1;34m(self, arg, connectgaps, customdata, customdatasrc, featureidkey, fill, fillcolor, geo, geojson, hoverinfo, hoverinfosrc, hoverlabel, hovertemplate, hovertemplatesrc, hovertext, hovertextsrc, ids, idssrc, lat, latsrc, legend, legendgroup, legendgrouptitle, legendrank, legendwidth, line, locationmode, locations, locationssrc, lon, lonsrc, marker, meta, metasrc, mode, name, opacity, selected, selectedpoints, showlegend, stream, text, textfont, textposition, textpositionsrc, textsrc, texttemplate, texttemplatesrc, uid, uirevision, unselected, visible, **kwargs)\u001b[0m\n\u001b[0;32m   2346\u001b[0m _v \u001b[38;5;241m=\u001b[39m marker \u001b[38;5;28;01mif\u001b[39;00m marker \u001b[38;5;129;01mis\u001b[39;00m \u001b[38;5;129;01mnot\u001b[39;00m \u001b[38;5;28;01mNone\u001b[39;00m \u001b[38;5;28;01melse\u001b[39;00m _v\n\u001b[0;32m   2347\u001b[0m \u001b[38;5;28;01mif\u001b[39;00m _v \u001b[38;5;129;01mis\u001b[39;00m \u001b[38;5;129;01mnot\u001b[39;00m \u001b[38;5;28;01mNone\u001b[39;00m:\n\u001b[1;32m-> 2348\u001b[0m     \u001b[38;5;28;43mself\u001b[39;49m\u001b[43m[\u001b[49m\u001b[38;5;124;43m\"\u001b[39;49m\u001b[38;5;124;43mmarker\u001b[39;49m\u001b[38;5;124;43m\"\u001b[39;49m\u001b[43m]\u001b[49m \u001b[38;5;241m=\u001b[39m _v\n\u001b[0;32m   2349\u001b[0m _v \u001b[38;5;241m=\u001b[39m arg\u001b[38;5;241m.\u001b[39mpop(\u001b[38;5;124m\"\u001b[39m\u001b[38;5;124mmeta\u001b[39m\u001b[38;5;124m\"\u001b[39m, \u001b[38;5;28;01mNone\u001b[39;00m)\n\u001b[0;32m   2350\u001b[0m _v \u001b[38;5;241m=\u001b[39m meta \u001b[38;5;28;01mif\u001b[39;00m meta \u001b[38;5;129;01mis\u001b[39;00m \u001b[38;5;129;01mnot\u001b[39;00m \u001b[38;5;28;01mNone\u001b[39;00m \u001b[38;5;28;01melse\u001b[39;00m _v\n",
      "File \u001b[1;32mc:\\Users\\TEXON WARE\\AppData\\Local\\Programs\\Python\\lib\\site-packages\\plotly\\basedatatypes.py:4866\u001b[0m, in \u001b[0;36mBasePlotlyType.__setitem__\u001b[1;34m(self, prop, value)\u001b[0m\n\u001b[0;32m   4864\u001b[0m \u001b[38;5;66;03m# ### Handle compound property ###\u001b[39;00m\n\u001b[0;32m   4865\u001b[0m \u001b[38;5;28;01mif\u001b[39;00m \u001b[38;5;28misinstance\u001b[39m(validator, CompoundValidator):\n\u001b[1;32m-> 4866\u001b[0m     \u001b[38;5;28;43mself\u001b[39;49m\u001b[38;5;241;43m.\u001b[39;49m\u001b[43m_set_compound_prop\u001b[49m\u001b[43m(\u001b[49m\u001b[43mprop\u001b[49m\u001b[43m,\u001b[49m\u001b[43m \u001b[49m\u001b[43mvalue\u001b[49m\u001b[43m)\u001b[49m\n\u001b[0;32m   4868\u001b[0m \u001b[38;5;66;03m# ### Handle compound array property ###\u001b[39;00m\n\u001b[0;32m   4869\u001b[0m \u001b[38;5;28;01melif\u001b[39;00m \u001b[38;5;28misinstance\u001b[39m(validator, (CompoundArrayValidator, BaseDataValidator)):\n",
      "File \u001b[1;32mc:\\Users\\TEXON WARE\\AppData\\Local\\Programs\\Python\\lib\\site-packages\\plotly\\basedatatypes.py:5277\u001b[0m, in \u001b[0;36mBasePlotlyType._set_compound_prop\u001b[1;34m(self, prop, val)\u001b[0m\n\u001b[0;32m   5274\u001b[0m \u001b[38;5;66;03m# Import value\u001b[39;00m\n\u001b[0;32m   5275\u001b[0m \u001b[38;5;66;03m# ------------\u001b[39;00m\n\u001b[0;32m   5276\u001b[0m validator \u001b[38;5;241m=\u001b[39m \u001b[38;5;28mself\u001b[39m\u001b[38;5;241m.\u001b[39m_get_validator(prop)\n\u001b[1;32m-> 5277\u001b[0m val \u001b[38;5;241m=\u001b[39m \u001b[43mvalidator\u001b[49m\u001b[38;5;241;43m.\u001b[39;49m\u001b[43mvalidate_coerce\u001b[49m\u001b[43m(\u001b[49m\u001b[43mval\u001b[49m\u001b[43m,\u001b[49m\u001b[43m \u001b[49m\u001b[43mskip_invalid\u001b[49m\u001b[38;5;241;43m=\u001b[39;49m\u001b[38;5;28;43mself\u001b[39;49m\u001b[38;5;241;43m.\u001b[39;49m\u001b[43m_skip_invalid\u001b[49m\u001b[43m)\u001b[49m\n\u001b[0;32m   5279\u001b[0m \u001b[38;5;66;03m# Save deep copies of current and new states\u001b[39;00m\n\u001b[0;32m   5280\u001b[0m \u001b[38;5;66;03m# ------------------------------------------\u001b[39;00m\n\u001b[0;32m   5281\u001b[0m curr_val \u001b[38;5;241m=\u001b[39m \u001b[38;5;28mself\u001b[39m\u001b[38;5;241m.\u001b[39m_compound_props\u001b[38;5;241m.\u001b[39mget(prop, \u001b[38;5;28;01mNone\u001b[39;00m)\n",
      "File \u001b[1;32mc:\\Users\\TEXON WARE\\AppData\\Local\\Programs\\Python\\lib\\site-packages\\_plotly_utils\\basevalidators.py:2493\u001b[0m, in \u001b[0;36mCompoundValidator.validate_coerce\u001b[1;34m(self, v, skip_invalid, _validate)\u001b[0m\n\u001b[0;32m   2491\u001b[0m         v \u001b[38;5;241m=\u001b[39m \u001b[38;5;28mself\u001b[39m\u001b[38;5;241m.\u001b[39mdata_class()\n\u001b[0;32m   2492\u001b[0m     \u001b[38;5;28;01melse\u001b[39;00m:\n\u001b[1;32m-> 2493\u001b[0m         \u001b[38;5;28;43mself\u001b[39;49m\u001b[38;5;241;43m.\u001b[39;49m\u001b[43mraise_invalid_val\u001b[49m\u001b[43m(\u001b[49m\u001b[43mv\u001b[49m\u001b[43m)\u001b[49m\n\u001b[0;32m   2495\u001b[0m v\u001b[38;5;241m.\u001b[39m_plotly_name \u001b[38;5;241m=\u001b[39m \u001b[38;5;28mself\u001b[39m\u001b[38;5;241m.\u001b[39mplotly_name\n\u001b[0;32m   2496\u001b[0m \u001b[38;5;28;01mreturn\u001b[39;00m v\n",
      "File \u001b[1;32mc:\\Users\\TEXON WARE\\AppData\\Local\\Programs\\Python\\lib\\site-packages\\_plotly_utils\\basevalidators.py:296\u001b[0m, in \u001b[0;36mBaseValidator.raise_invalid_val\u001b[1;34m(self, v, inds)\u001b[0m\n\u001b[0;32m    293\u001b[0m             \u001b[38;5;28;01mfor\u001b[39;00m i \u001b[38;5;129;01min\u001b[39;00m inds:\n\u001b[0;32m    294\u001b[0m                 name \u001b[38;5;241m+\u001b[39m\u001b[38;5;241m=\u001b[39m \u001b[38;5;124m\"\u001b[39m\u001b[38;5;124m[\u001b[39m\u001b[38;5;124m\"\u001b[39m \u001b[38;5;241m+\u001b[39m \u001b[38;5;28mstr\u001b[39m(i) \u001b[38;5;241m+\u001b[39m \u001b[38;5;124m\"\u001b[39m\u001b[38;5;124m]\u001b[39m\u001b[38;5;124m\"\u001b[39m\n\u001b[1;32m--> 296\u001b[0m         \u001b[38;5;28;01mraise\u001b[39;00m \u001b[38;5;167;01mValueError\u001b[39;00m(\n\u001b[0;32m    297\u001b[0m \u001b[38;5;250m            \u001b[39m\u001b[38;5;124;03m\"\"\"\u001b[39;00m\n\u001b[0;32m    298\u001b[0m \u001b[38;5;124;03m    Invalid value of type {typ} received for the '{name}' property of {pname}\u001b[39;00m\n\u001b[0;32m    299\u001b[0m \u001b[38;5;124;03m        Received value: {v}\u001b[39;00m\n\u001b[0;32m    300\u001b[0m \n\u001b[0;32m    301\u001b[0m \u001b[38;5;124;03m{valid_clr_desc}\"\"\"\u001b[39;00m\u001b[38;5;241m.\u001b[39mformat(\n\u001b[0;32m    302\u001b[0m                 name\u001b[38;5;241m=\u001b[39mname,\n\u001b[0;32m    303\u001b[0m                 pname\u001b[38;5;241m=\u001b[39m\u001b[38;5;28mself\u001b[39m\u001b[38;5;241m.\u001b[39mparent_name,\n\u001b[0;32m    304\u001b[0m                 typ\u001b[38;5;241m=\u001b[39mtype_str(v),\n\u001b[0;32m    305\u001b[0m                 v\u001b[38;5;241m=\u001b[39m\u001b[38;5;28mrepr\u001b[39m(v),\n\u001b[0;32m    306\u001b[0m                 valid_clr_desc\u001b[38;5;241m=\u001b[39m\u001b[38;5;28mself\u001b[39m\u001b[38;5;241m.\u001b[39mdescription(),\n\u001b[0;32m    307\u001b[0m             )\n\u001b[0;32m    308\u001b[0m         )\n",
      "\u001b[1;31mValueError\u001b[0m: \n    Invalid value of type 'plotly.graph_objs.scattermapbox._marker.Marker' received for the 'marker' property of scattergeo\n        Received value: scattermapbox.Marker({\n    'size': 3\n})\n\n    The 'marker' property is an instance of Marker\n    that may be specified as:\n      - An instance of :class:`plotly.graph_objs.scattergeo.Marker`\n      - A dict of string/value properties that will be passed\n        to the Marker constructor\n\n        Supported dict properties:\n            \n            angle\n                Sets the marker angle in respect to `angleref`.\n            angleref\n                Sets the reference for marker angle. With\n                \"previous\", angle 0 points along the line from\n                the previous point to this one. With \"up\",\n                angle 0 points toward the top of the screen.\n                With \"north\", angle 0 points north based on the\n                current map projection.\n            anglesrc\n                Sets the source reference on Chart Studio Cloud\n                for `angle`.\n            autocolorscale\n                Determines whether the colorscale is a default\n                palette (`autocolorscale: true`) or the palette\n                determined by `marker.colorscale`. Has an\n                effect only if in `marker.color` is set to a\n                numerical array. In case `colorscale` is\n                unspecified or `autocolorscale` is true, the\n                default palette will be chosen according to\n                whether numbers in the `color` array are all\n                positive, all negative or mixed.\n            cauto\n                Determines whether or not the color domain is\n                computed with respect to the input data (here\n                in `marker.color`) or the bounds set in\n                `marker.cmin` and `marker.cmax` Has an effect\n                only if in `marker.color` is set to a numerical\n                array. Defaults to `false` when `marker.cmin`\n                and `marker.cmax` are set by the user.\n            cmax\n                Sets the upper bound of the color domain. Has\n                an effect only if in `marker.color` is set to a\n                numerical array. Value should have the same\n                units as in `marker.color` and if set,\n                `marker.cmin` must be set as well.\n            cmid\n                Sets the mid-point of the color domain by\n                scaling `marker.cmin` and/or `marker.cmax` to\n                be equidistant to this point. Has an effect\n                only if in `marker.color` is set to a numerical\n                array. Value should have the same units as in\n                `marker.color`. Has no effect when\n                `marker.cauto` is `false`.\n            cmin\n                Sets the lower bound of the color domain. Has\n                an effect only if in `marker.color` is set to a\n                numerical array. Value should have the same\n                units as in `marker.color` and if set,\n                `marker.cmax` must be set as well.\n            color\n                Sets the marker color. It accepts either a\n                specific color or an array of numbers that are\n                mapped to the colorscale relative to the max\n                and min values of the array or relative to\n                `marker.cmin` and `marker.cmax` if set.\n            coloraxis\n                Sets a reference to a shared color axis.\n                References to these shared color axes are\n                \"coloraxis\", \"coloraxis2\", \"coloraxis3\", etc.\n                Settings for these shared color axes are set in\n                the layout, under `layout.coloraxis`,\n                `layout.coloraxis2`, etc. Note that multiple\n                color scales can be linked to the same color\n                axis.\n            colorbar\n                :class:`plotly.graph_objects.scattergeo.marker.\n                ColorBar` instance or dict with compatible\n                properties\n            colorscale\n                Sets the colorscale. Has an effect only if in\n                `marker.color` is set to a numerical array. The\n                colorscale must be an array containing arrays\n                mapping a normalized value to an rgb, rgba,\n                hex, hsl, hsv, or named color string. At\n                minimum, a mapping for the lowest (0) and\n                highest (1) values are required. For example,\n                `[[0, 'rgb(0,0,255)'], [1, 'rgb(255,0,0)']]`.\n                To control the bounds of the colorscale in\n                color space, use `marker.cmin` and\n                `marker.cmax`. Alternatively, `colorscale` may\n                be a palette name string of the following list:\n                Blackbody,Bluered,Blues,Cividis,Earth,Electric,\n                Greens,Greys,Hot,Jet,Picnic,Portland,Rainbow,Rd\n                Bu,Reds,Viridis,YlGnBu,YlOrRd.\n            colorsrc\n                Sets the source reference on Chart Studio Cloud\n                for `color`.\n            gradient\n                :class:`plotly.graph_objects.scattergeo.marker.\n                Gradient` instance or dict with compatible\n                properties\n            line\n                :class:`plotly.graph_objects.scattergeo.marker.\n                Line` instance or dict with compatible\n                properties\n            opacity\n                Sets the marker opacity.\n            opacitysrc\n                Sets the source reference on Chart Studio Cloud\n                for `opacity`.\n            reversescale\n                Reverses the color mapping if true. Has an\n                effect only if in `marker.color` is set to a\n                numerical array. If true, `marker.cmin` will\n                correspond to the last color in the array and\n                `marker.cmax` will correspond to the first\n                color.\n            showscale\n                Determines whether or not a colorbar is\n                displayed for this trace. Has an effect only if\n                in `marker.color` is set to a numerical array.\n            size\n                Sets the marker size (in px).\n            sizemin\n                Has an effect only if `marker.size` is set to a\n                numerical array. Sets the minimum size (in px)\n                of the rendered marker points.\n            sizemode\n                Has an effect only if `marker.size` is set to a\n                numerical array. Sets the rule for which the\n                data in `size` is converted to pixels.\n            sizeref\n                Has an effect only if `marker.size` is set to a\n                numerical array. Sets the scale factor used to\n                determine the rendered size of marker points.\n                Use with `sizemin` and `sizemode`.\n            sizesrc\n                Sets the source reference on Chart Studio Cloud\n                for `size`.\n            standoff\n                Moves the marker away from the data point in\n                the direction of `angle` (in px). This can be\n                useful for example if you have another marker\n                at this location and you want to point an\n                arrowhead marker at it.\n            standoffsrc\n                Sets the source reference on Chart Studio Cloud\n                for `standoff`.\n            symbol\n                Sets the marker symbol type. Adding 100 is\n                equivalent to appending \"-open\" to a symbol\n                name. Adding 200 is equivalent to appending\n                \"-dot\" to a symbol name. Adding 300 is\n                equivalent to appending \"-open-dot\" or \"dot-\n                open\" to a symbol name.\n            symbolsrc\n                Sets the source reference on Chart Studio Cloud\n                for `symbol`.\n"
     ]
    }
   ],
   "source": [
    "import plotly.graph_objects as go\n",
    "\n",
    "mapbox_access_token = \"pk.eyJ1IjoicmF6YS05OCIsImEiOiJjbHEzaWJkdjEwZHhsMnNseHdjcG5xM2x5In0.YJhEoq8E7Rdne1fSidrfBQ\"\n",
    "# Ask the user where they want to go\n",
    "user_input = input(\"Where do you want to go in these locations? \")\n",
    "\n",
    "# Filter the data frame based on the user's input\n",
    "filtered_locations = locations.query(\"city == @user_input\")\n",
    "\n",
    "fig = go.Figure(go.Scattergeo(\n",
    "    lon = locations['lon'],\n",
    "    lat = locations['lat'],\n",
    "    mode='markers',\n",
    "    marker=go.scattermapbox.Marker(\n",
    "        size=3)\n",
    "    \n",
    "    ))\n",
    "# fig.update_geos(\n",
    "#     visible=False, resolution=50, \n",
    "#     showcountries=True, countrycolor=\"Black\",\n",
    "#     showsubunits=True, subunitcolor=\"Blue\")\n",
    "\n",
    "print(filtered_locations)\n",
    "print(filtered_locations.city.values[0])\n",
    "#     lon=\"lon\",\n",
    "#     # hover_name=\"city\",\n",
    "#     visible=False, resolution=110, scope=filtered_locations,\n",
    "#     showcountries=True, countrycolor=\"Black\",\n",
    "#     showsubunits=True, subunitcolor=\"Blue\"\n",
    "# )\n",
    "# fig.update_layout(height=300, margin={\"r\":0,\"t\":0,\"l\":0,\"b\":0}, title_text=filtered_locations.city.values[0],mapbox=dict(accesstoken=mapbox_access_token))\n",
    "fig.update_layout(\n",
    "    autosize=True,\n",
    "    mapbox_style=\"light\", # you can change the style of the map\n",
    "    hovermode='closest',\n",
    "    mapbox=dict(\n",
    "        accesstoken=mapbox_access_token,\n",
    "        bearing=0,\n",
    "        center=dict(\n",
    "            lat=float(filtered_locations[\"lat\"]),\n",
    "            lon=float(filtered_locations[\"lon\"]),\n",
    "            # lat=38.92,\n",
    "            # lon=-77.07\n",
    "        ),\n",
    "        pitch=0,\n",
    "        zoom=10\n",
    "    ),\n",
    ")\n",
    "\n",
    "fig.show()"
   ]
  },
  {
   "cell_type": "code",
   "execution_count": 77,
   "metadata": {},
   "outputs": [
    {
     "data": {
      "application/vnd.plotly.v1+json": {
       "config": {
        "plotlyServerURL": "https://plot.ly"
       },
       "data": [
        {
         "lat": [
          "33.7825194"
         ],
         "lon": [
          "-117.22864779999999"
         ],
         "marker": {
          "color": "red",
          "size": 10,
          "symbol": "pin"
         },
         "mode": "markers",
         "text": [
          "Perris"
         ],
         "type": "scattermapbox"
        }
       ],
       "layout": {
        "autosize": true,
        "hovermode": "closest",
        "mapbox": {
         "accesstoken": "pk.eyJ1IjoicmF6YS05OCIsImEiOiJjbHEzaWJkdjEwZHhsMnNseHdjcG5xM2x5In0.YJhEoq8E7Rdne1fSidrfBQ",
         "bearing": 0,
         "center": {
          "lat": 33.7825194,
          "lon": -117.22864779999999
         },
         "pitch": 0,
         "style": "open-street-map",
         "zoom": 14
        },
        "margin": {
         "b": 0,
         "l": 0,
         "r": 0,
         "t": 0
        },
        "template": {
         "data": {
          "bar": [
           {
            "error_x": {
             "color": "#2a3f5f"
            },
            "error_y": {
             "color": "#2a3f5f"
            },
            "marker": {
             "line": {
              "color": "#E5ECF6",
              "width": 0.5
             },
             "pattern": {
              "fillmode": "overlay",
              "size": 10,
              "solidity": 0.2
             }
            },
            "type": "bar"
           }
          ],
          "barpolar": [
           {
            "marker": {
             "line": {
              "color": "#E5ECF6",
              "width": 0.5
             },
             "pattern": {
              "fillmode": "overlay",
              "size": 10,
              "solidity": 0.2
             }
            },
            "type": "barpolar"
           }
          ],
          "carpet": [
           {
            "aaxis": {
             "endlinecolor": "#2a3f5f",
             "gridcolor": "white",
             "linecolor": "white",
             "minorgridcolor": "white",
             "startlinecolor": "#2a3f5f"
            },
            "baxis": {
             "endlinecolor": "#2a3f5f",
             "gridcolor": "white",
             "linecolor": "white",
             "minorgridcolor": "white",
             "startlinecolor": "#2a3f5f"
            },
            "type": "carpet"
           }
          ],
          "choropleth": [
           {
            "colorbar": {
             "outlinewidth": 0,
             "ticks": ""
            },
            "type": "choropleth"
           }
          ],
          "contour": [
           {
            "colorbar": {
             "outlinewidth": 0,
             "ticks": ""
            },
            "colorscale": [
             [
              0,
              "#0d0887"
             ],
             [
              0.1111111111111111,
              "#46039f"
             ],
             [
              0.2222222222222222,
              "#7201a8"
             ],
             [
              0.3333333333333333,
              "#9c179e"
             ],
             [
              0.4444444444444444,
              "#bd3786"
             ],
             [
              0.5555555555555556,
              "#d8576b"
             ],
             [
              0.6666666666666666,
              "#ed7953"
             ],
             [
              0.7777777777777778,
              "#fb9f3a"
             ],
             [
              0.8888888888888888,
              "#fdca26"
             ],
             [
              1,
              "#f0f921"
             ]
            ],
            "type": "contour"
           }
          ],
          "contourcarpet": [
           {
            "colorbar": {
             "outlinewidth": 0,
             "ticks": ""
            },
            "type": "contourcarpet"
           }
          ],
          "heatmap": [
           {
            "colorbar": {
             "outlinewidth": 0,
             "ticks": ""
            },
            "colorscale": [
             [
              0,
              "#0d0887"
             ],
             [
              0.1111111111111111,
              "#46039f"
             ],
             [
              0.2222222222222222,
              "#7201a8"
             ],
             [
              0.3333333333333333,
              "#9c179e"
             ],
             [
              0.4444444444444444,
              "#bd3786"
             ],
             [
              0.5555555555555556,
              "#d8576b"
             ],
             [
              0.6666666666666666,
              "#ed7953"
             ],
             [
              0.7777777777777778,
              "#fb9f3a"
             ],
             [
              0.8888888888888888,
              "#fdca26"
             ],
             [
              1,
              "#f0f921"
             ]
            ],
            "type": "heatmap"
           }
          ],
          "heatmapgl": [
           {
            "colorbar": {
             "outlinewidth": 0,
             "ticks": ""
            },
            "colorscale": [
             [
              0,
              "#0d0887"
             ],
             [
              0.1111111111111111,
              "#46039f"
             ],
             [
              0.2222222222222222,
              "#7201a8"
             ],
             [
              0.3333333333333333,
              "#9c179e"
             ],
             [
              0.4444444444444444,
              "#bd3786"
             ],
             [
              0.5555555555555556,
              "#d8576b"
             ],
             [
              0.6666666666666666,
              "#ed7953"
             ],
             [
              0.7777777777777778,
              "#fb9f3a"
             ],
             [
              0.8888888888888888,
              "#fdca26"
             ],
             [
              1,
              "#f0f921"
             ]
            ],
            "type": "heatmapgl"
           }
          ],
          "histogram": [
           {
            "marker": {
             "pattern": {
              "fillmode": "overlay",
              "size": 10,
              "solidity": 0.2
             }
            },
            "type": "histogram"
           }
          ],
          "histogram2d": [
           {
            "colorbar": {
             "outlinewidth": 0,
             "ticks": ""
            },
            "colorscale": [
             [
              0,
              "#0d0887"
             ],
             [
              0.1111111111111111,
              "#46039f"
             ],
             [
              0.2222222222222222,
              "#7201a8"
             ],
             [
              0.3333333333333333,
              "#9c179e"
             ],
             [
              0.4444444444444444,
              "#bd3786"
             ],
             [
              0.5555555555555556,
              "#d8576b"
             ],
             [
              0.6666666666666666,
              "#ed7953"
             ],
             [
              0.7777777777777778,
              "#fb9f3a"
             ],
             [
              0.8888888888888888,
              "#fdca26"
             ],
             [
              1,
              "#f0f921"
             ]
            ],
            "type": "histogram2d"
           }
          ],
          "histogram2dcontour": [
           {
            "colorbar": {
             "outlinewidth": 0,
             "ticks": ""
            },
            "colorscale": [
             [
              0,
              "#0d0887"
             ],
             [
              0.1111111111111111,
              "#46039f"
             ],
             [
              0.2222222222222222,
              "#7201a8"
             ],
             [
              0.3333333333333333,
              "#9c179e"
             ],
             [
              0.4444444444444444,
              "#bd3786"
             ],
             [
              0.5555555555555556,
              "#d8576b"
             ],
             [
              0.6666666666666666,
              "#ed7953"
             ],
             [
              0.7777777777777778,
              "#fb9f3a"
             ],
             [
              0.8888888888888888,
              "#fdca26"
             ],
             [
              1,
              "#f0f921"
             ]
            ],
            "type": "histogram2dcontour"
           }
          ],
          "mesh3d": [
           {
            "colorbar": {
             "outlinewidth": 0,
             "ticks": ""
            },
            "type": "mesh3d"
           }
          ],
          "parcoords": [
           {
            "line": {
             "colorbar": {
              "outlinewidth": 0,
              "ticks": ""
             }
            },
            "type": "parcoords"
           }
          ],
          "pie": [
           {
            "automargin": true,
            "type": "pie"
           }
          ],
          "scatter": [
           {
            "fillpattern": {
             "fillmode": "overlay",
             "size": 10,
             "solidity": 0.2
            },
            "type": "scatter"
           }
          ],
          "scatter3d": [
           {
            "line": {
             "colorbar": {
              "outlinewidth": 0,
              "ticks": ""
             }
            },
            "marker": {
             "colorbar": {
              "outlinewidth": 0,
              "ticks": ""
             }
            },
            "type": "scatter3d"
           }
          ],
          "scattercarpet": [
           {
            "marker": {
             "colorbar": {
              "outlinewidth": 0,
              "ticks": ""
             }
            },
            "type": "scattercarpet"
           }
          ],
          "scattergeo": [
           {
            "marker": {
             "colorbar": {
              "outlinewidth": 0,
              "ticks": ""
             }
            },
            "type": "scattergeo"
           }
          ],
          "scattergl": [
           {
            "marker": {
             "colorbar": {
              "outlinewidth": 0,
              "ticks": ""
             }
            },
            "type": "scattergl"
           }
          ],
          "scattermapbox": [
           {
            "marker": {
             "colorbar": {
              "outlinewidth": 0,
              "ticks": ""
             }
            },
            "type": "scattermapbox"
           }
          ],
          "scatterpolar": [
           {
            "marker": {
             "colorbar": {
              "outlinewidth": 0,
              "ticks": ""
             }
            },
            "type": "scatterpolar"
           }
          ],
          "scatterpolargl": [
           {
            "marker": {
             "colorbar": {
              "outlinewidth": 0,
              "ticks": ""
             }
            },
            "type": "scatterpolargl"
           }
          ],
          "scatterternary": [
           {
            "marker": {
             "colorbar": {
              "outlinewidth": 0,
              "ticks": ""
             }
            },
            "type": "scatterternary"
           }
          ],
          "surface": [
           {
            "colorbar": {
             "outlinewidth": 0,
             "ticks": ""
            },
            "colorscale": [
             [
              0,
              "#0d0887"
             ],
             [
              0.1111111111111111,
              "#46039f"
             ],
             [
              0.2222222222222222,
              "#7201a8"
             ],
             [
              0.3333333333333333,
              "#9c179e"
             ],
             [
              0.4444444444444444,
              "#bd3786"
             ],
             [
              0.5555555555555556,
              "#d8576b"
             ],
             [
              0.6666666666666666,
              "#ed7953"
             ],
             [
              0.7777777777777778,
              "#fb9f3a"
             ],
             [
              0.8888888888888888,
              "#fdca26"
             ],
             [
              1,
              "#f0f921"
             ]
            ],
            "type": "surface"
           }
          ],
          "table": [
           {
            "cells": {
             "fill": {
              "color": "#EBF0F8"
             },
             "line": {
              "color": "white"
             }
            },
            "header": {
             "fill": {
              "color": "#C8D4E3"
             },
             "line": {
              "color": "white"
             }
            },
            "type": "table"
           }
          ]
         },
         "layout": {
          "annotationdefaults": {
           "arrowcolor": "#2a3f5f",
           "arrowhead": 0,
           "arrowwidth": 1
          },
          "autotypenumbers": "strict",
          "coloraxis": {
           "colorbar": {
            "outlinewidth": 0,
            "ticks": ""
           }
          },
          "colorscale": {
           "diverging": [
            [
             0,
             "#8e0152"
            ],
            [
             0.1,
             "#c51b7d"
            ],
            [
             0.2,
             "#de77ae"
            ],
            [
             0.3,
             "#f1b6da"
            ],
            [
             0.4,
             "#fde0ef"
            ],
            [
             0.5,
             "#f7f7f7"
            ],
            [
             0.6,
             "#e6f5d0"
            ],
            [
             0.7,
             "#b8e186"
            ],
            [
             0.8,
             "#7fbc41"
            ],
            [
             0.9,
             "#4d9221"
            ],
            [
             1,
             "#276419"
            ]
           ],
           "sequential": [
            [
             0,
             "#0d0887"
            ],
            [
             0.1111111111111111,
             "#46039f"
            ],
            [
             0.2222222222222222,
             "#7201a8"
            ],
            [
             0.3333333333333333,
             "#9c179e"
            ],
            [
             0.4444444444444444,
             "#bd3786"
            ],
            [
             0.5555555555555556,
             "#d8576b"
            ],
            [
             0.6666666666666666,
             "#ed7953"
            ],
            [
             0.7777777777777778,
             "#fb9f3a"
            ],
            [
             0.8888888888888888,
             "#fdca26"
            ],
            [
             1,
             "#f0f921"
            ]
           ],
           "sequentialminus": [
            [
             0,
             "#0d0887"
            ],
            [
             0.1111111111111111,
             "#46039f"
            ],
            [
             0.2222222222222222,
             "#7201a8"
            ],
            [
             0.3333333333333333,
             "#9c179e"
            ],
            [
             0.4444444444444444,
             "#bd3786"
            ],
            [
             0.5555555555555556,
             "#d8576b"
            ],
            [
             0.6666666666666666,
             "#ed7953"
            ],
            [
             0.7777777777777778,
             "#fb9f3a"
            ],
            [
             0.8888888888888888,
             "#fdca26"
            ],
            [
             1,
             "#f0f921"
            ]
           ]
          },
          "colorway": [
           "#636efa",
           "#EF553B",
           "#00cc96",
           "#ab63fa",
           "#FFA15A",
           "#19d3f3",
           "#FF6692",
           "#B6E880",
           "#FF97FF",
           "#FECB52"
          ],
          "font": {
           "color": "#2a3f5f"
          },
          "geo": {
           "bgcolor": "white",
           "lakecolor": "white",
           "landcolor": "#E5ECF6",
           "showlakes": true,
           "showland": true,
           "subunitcolor": "white"
          },
          "hoverlabel": {
           "align": "left"
          },
          "hovermode": "closest",
          "mapbox": {
           "style": "light"
          },
          "paper_bgcolor": "white",
          "plot_bgcolor": "#E5ECF6",
          "polar": {
           "angularaxis": {
            "gridcolor": "white",
            "linecolor": "white",
            "ticks": ""
           },
           "bgcolor": "#E5ECF6",
           "radialaxis": {
            "gridcolor": "white",
            "linecolor": "white",
            "ticks": ""
           }
          },
          "scene": {
           "xaxis": {
            "backgroundcolor": "#E5ECF6",
            "gridcolor": "white",
            "gridwidth": 2,
            "linecolor": "white",
            "showbackground": true,
            "ticks": "",
            "zerolinecolor": "white"
           },
           "yaxis": {
            "backgroundcolor": "#E5ECF6",
            "gridcolor": "white",
            "gridwidth": 2,
            "linecolor": "white",
            "showbackground": true,
            "ticks": "",
            "zerolinecolor": "white"
           },
           "zaxis": {
            "backgroundcolor": "#E5ECF6",
            "gridcolor": "white",
            "gridwidth": 2,
            "linecolor": "white",
            "showbackground": true,
            "ticks": "",
            "zerolinecolor": "white"
           }
          },
          "shapedefaults": {
           "line": {
            "color": "#2a3f5f"
           }
          },
          "ternary": {
           "aaxis": {
            "gridcolor": "white",
            "linecolor": "white",
            "ticks": ""
           },
           "baxis": {
            "gridcolor": "white",
            "linecolor": "white",
            "ticks": ""
           },
           "bgcolor": "#E5ECF6",
           "caxis": {
            "gridcolor": "white",
            "linecolor": "white",
            "ticks": ""
           }
          },
          "title": {
           "x": 0.05
          },
          "xaxis": {
           "automargin": true,
           "gridcolor": "white",
           "linecolor": "white",
           "ticks": "",
           "title": {
            "standoff": 15
           },
           "zerolinecolor": "white",
           "zerolinewidth": 2
          },
          "yaxis": {
           "automargin": true,
           "gridcolor": "white",
           "linecolor": "white",
           "ticks": "",
           "title": {
            "standoff": 15
           },
           "zerolinecolor": "white",
           "zerolinewidth": 2
          }
         }
        }
       }
      }
     },
     "metadata": {},
     "output_type": "display_data"
    }
   ],
   "source": [
    "import plotly.graph_objects as go\n",
    "\n",
    "mapbox_access_token = \"pk.eyJ1IjoicmF6YS05OCIsImEiOiJjbHEzaWJkdjEwZHhsMnNseHdjcG5xM2x5In0.YJhEoq8E7Rdne1fSidrfBQ\"\n",
    "\n",
    "# Assume you have a DataFrame named 'filtered_locations' with columns 'lat', 'lon', 'city'\n",
    "# Replace filtered_locations with your actual DataFrame\n",
    "user_input = input(\"Where do you want to go in these locations? \")\n",
    "\n",
    "fig = go.Figure(go.Scattermapbox(\n",
    "    lat=filtered_locations[\"lat\"],\n",
    "    lon=filtered_locations[\"lon\"],\n",
    "    mode='markers',\n",
    "    marker=dict(\n",
    "        symbol='pin',\n",
    "        size=10,\n",
    "        color='red'  # You can specify the color as needed\n",
    "    ),\n",
    "    text=filtered_locations['city'],\n",
    "))\n",
    "\n",
    "fig.update_layout(\n",
    "    hovermode='closest',\n",
    "    autosize=True,\n",
    "    margin={\"r\": 0, \"t\": 0, \"l\": 0, \"b\": 0},\n",
    "    mapbox=dict(\n",
    "        accesstoken=mapbox_access_token,\n",
    "        style=\"open-street-map\",  # You can choose other Mapbox styles\n",
    "        bearing=0,\n",
    "        center=dict(lon=float(filtered_locations['lon'].mean()), lat=float(filtered_locations['lat'].mean())),\n",
    "        pitch=0,\n",
    "        zoom=14\n",
    "    )\n",
    ")\n",
    "\n",
    "fig.show()\n"
   ]
  },
  {
   "cell_type": "code",
   "execution_count": 50,
   "metadata": {},
   "outputs": [
    {
     "name": "stderr",
     "output_type": "stream",
     "text": [
      "C:\\Users\\TEXON WARE\\AppData\\Local\\Temp\\ipykernel_15616\\929600925.py:43: FutureWarning:\n",
      "\n",
      "Calling float on a single element Series is deprecated and will raise a TypeError in the future. Use float(ser.iloc[0]) instead\n",
      "\n",
      "C:\\Users\\TEXON WARE\\AppData\\Local\\Temp\\ipykernel_15616\\929600925.py:44: FutureWarning:\n",
      "\n",
      "Calling float on a single element Series is deprecated and will raise a TypeError in the future. Use float(ser.iloc[0]) instead\n",
      "\n"
     ]
    },
    {
     "data": {
      "application/vnd.plotly.v1+json": {
       "config": {
        "plotlyServerURL": "https://plot.ly"
       },
       "data": [
        {
         "lat": [
          "38.91427",
          "38.91538",
          "38.91458",
          "38.92239",
          "38.93222",
          "38.90842",
          "38.91931",
          "38.93260",
          "38.91368",
          "38.88516",
          "38.921894",
          "38.93206",
          "38.91275"
         ],
         "lon": [
          "-77.02827",
          "-77.02013",
          "-77.03155",
          "-77.04227",
          "-77.02854",
          "-77.02419",
          "-77.02518",
          "-77.03304",
          "-77.04509",
          "-76.99656",
          "-77.042438",
          "-77.02821",
          "-77.01239"
         ],
         "marker": {
          "size": 9
         },
         "mode": "markers",
         "text": [
          "The coffee bar",
          "Bistro Bohem",
          "Black Cat",
          "Snap",
          "Columbia Heights Coffee",
          "Azi's Cafe",
          "Blind Dog Cafe",
          "Le Caprice",
          "Filter",
          "Peregrine",
          "Tryst",
          "The Coupe",
          "Big Bear Cafe"
         ],
         "type": "scattermapbox"
        }
       ],
       "layout": {
        "autosize": true,
        "hovermode": "closest",
        "mapbox": {
         "accesstoken": "pk.eyJ1IjoicmF6YS05OCIsImEiOiJjbHEzaWJkdjEwZHhsMnNseHdjcG5xM2x5In0.YJhEoq8E7Rdne1fSidrfBQ",
         "bearing": 0,
         "center": {
          "lat": 33.7825194,
          "lon": -117.22864779999999
         },
         "pitch": 0,
         "style": "light",
         "zoom": 10
        },
        "template": {
         "data": {
          "bar": [
           {
            "error_x": {
             "color": "#2a3f5f"
            },
            "error_y": {
             "color": "#2a3f5f"
            },
            "marker": {
             "line": {
              "color": "#E5ECF6",
              "width": 0.5
             },
             "pattern": {
              "fillmode": "overlay",
              "size": 10,
              "solidity": 0.2
             }
            },
            "type": "bar"
           }
          ],
          "barpolar": [
           {
            "marker": {
             "line": {
              "color": "#E5ECF6",
              "width": 0.5
             },
             "pattern": {
              "fillmode": "overlay",
              "size": 10,
              "solidity": 0.2
             }
            },
            "type": "barpolar"
           }
          ],
          "carpet": [
           {
            "aaxis": {
             "endlinecolor": "#2a3f5f",
             "gridcolor": "white",
             "linecolor": "white",
             "minorgridcolor": "white",
             "startlinecolor": "#2a3f5f"
            },
            "baxis": {
             "endlinecolor": "#2a3f5f",
             "gridcolor": "white",
             "linecolor": "white",
             "minorgridcolor": "white",
             "startlinecolor": "#2a3f5f"
            },
            "type": "carpet"
           }
          ],
          "choropleth": [
           {
            "colorbar": {
             "outlinewidth": 0,
             "ticks": ""
            },
            "type": "choropleth"
           }
          ],
          "contour": [
           {
            "colorbar": {
             "outlinewidth": 0,
             "ticks": ""
            },
            "colorscale": [
             [
              0,
              "#0d0887"
             ],
             [
              0.1111111111111111,
              "#46039f"
             ],
             [
              0.2222222222222222,
              "#7201a8"
             ],
             [
              0.3333333333333333,
              "#9c179e"
             ],
             [
              0.4444444444444444,
              "#bd3786"
             ],
             [
              0.5555555555555556,
              "#d8576b"
             ],
             [
              0.6666666666666666,
              "#ed7953"
             ],
             [
              0.7777777777777778,
              "#fb9f3a"
             ],
             [
              0.8888888888888888,
              "#fdca26"
             ],
             [
              1,
              "#f0f921"
             ]
            ],
            "type": "contour"
           }
          ],
          "contourcarpet": [
           {
            "colorbar": {
             "outlinewidth": 0,
             "ticks": ""
            },
            "type": "contourcarpet"
           }
          ],
          "heatmap": [
           {
            "colorbar": {
             "outlinewidth": 0,
             "ticks": ""
            },
            "colorscale": [
             [
              0,
              "#0d0887"
             ],
             [
              0.1111111111111111,
              "#46039f"
             ],
             [
              0.2222222222222222,
              "#7201a8"
             ],
             [
              0.3333333333333333,
              "#9c179e"
             ],
             [
              0.4444444444444444,
              "#bd3786"
             ],
             [
              0.5555555555555556,
              "#d8576b"
             ],
             [
              0.6666666666666666,
              "#ed7953"
             ],
             [
              0.7777777777777778,
              "#fb9f3a"
             ],
             [
              0.8888888888888888,
              "#fdca26"
             ],
             [
              1,
              "#f0f921"
             ]
            ],
            "type": "heatmap"
           }
          ],
          "heatmapgl": [
           {
            "colorbar": {
             "outlinewidth": 0,
             "ticks": ""
            },
            "colorscale": [
             [
              0,
              "#0d0887"
             ],
             [
              0.1111111111111111,
              "#46039f"
             ],
             [
              0.2222222222222222,
              "#7201a8"
             ],
             [
              0.3333333333333333,
              "#9c179e"
             ],
             [
              0.4444444444444444,
              "#bd3786"
             ],
             [
              0.5555555555555556,
              "#d8576b"
             ],
             [
              0.6666666666666666,
              "#ed7953"
             ],
             [
              0.7777777777777778,
              "#fb9f3a"
             ],
             [
              0.8888888888888888,
              "#fdca26"
             ],
             [
              1,
              "#f0f921"
             ]
            ],
            "type": "heatmapgl"
           }
          ],
          "histogram": [
           {
            "marker": {
             "pattern": {
              "fillmode": "overlay",
              "size": 10,
              "solidity": 0.2
             }
            },
            "type": "histogram"
           }
          ],
          "histogram2d": [
           {
            "colorbar": {
             "outlinewidth": 0,
             "ticks": ""
            },
            "colorscale": [
             [
              0,
              "#0d0887"
             ],
             [
              0.1111111111111111,
              "#46039f"
             ],
             [
              0.2222222222222222,
              "#7201a8"
             ],
             [
              0.3333333333333333,
              "#9c179e"
             ],
             [
              0.4444444444444444,
              "#bd3786"
             ],
             [
              0.5555555555555556,
              "#d8576b"
             ],
             [
              0.6666666666666666,
              "#ed7953"
             ],
             [
              0.7777777777777778,
              "#fb9f3a"
             ],
             [
              0.8888888888888888,
              "#fdca26"
             ],
             [
              1,
              "#f0f921"
             ]
            ],
            "type": "histogram2d"
           }
          ],
          "histogram2dcontour": [
           {
            "colorbar": {
             "outlinewidth": 0,
             "ticks": ""
            },
            "colorscale": [
             [
              0,
              "#0d0887"
             ],
             [
              0.1111111111111111,
              "#46039f"
             ],
             [
              0.2222222222222222,
              "#7201a8"
             ],
             [
              0.3333333333333333,
              "#9c179e"
             ],
             [
              0.4444444444444444,
              "#bd3786"
             ],
             [
              0.5555555555555556,
              "#d8576b"
             ],
             [
              0.6666666666666666,
              "#ed7953"
             ],
             [
              0.7777777777777778,
              "#fb9f3a"
             ],
             [
              0.8888888888888888,
              "#fdca26"
             ],
             [
              1,
              "#f0f921"
             ]
            ],
            "type": "histogram2dcontour"
           }
          ],
          "mesh3d": [
           {
            "colorbar": {
             "outlinewidth": 0,
             "ticks": ""
            },
            "type": "mesh3d"
           }
          ],
          "parcoords": [
           {
            "line": {
             "colorbar": {
              "outlinewidth": 0,
              "ticks": ""
             }
            },
            "type": "parcoords"
           }
          ],
          "pie": [
           {
            "automargin": true,
            "type": "pie"
           }
          ],
          "scatter": [
           {
            "fillpattern": {
             "fillmode": "overlay",
             "size": 10,
             "solidity": 0.2
            },
            "type": "scatter"
           }
          ],
          "scatter3d": [
           {
            "line": {
             "colorbar": {
              "outlinewidth": 0,
              "ticks": ""
             }
            },
            "marker": {
             "colorbar": {
              "outlinewidth": 0,
              "ticks": ""
             }
            },
            "type": "scatter3d"
           }
          ],
          "scattercarpet": [
           {
            "marker": {
             "colorbar": {
              "outlinewidth": 0,
              "ticks": ""
             }
            },
            "type": "scattercarpet"
           }
          ],
          "scattergeo": [
           {
            "marker": {
             "colorbar": {
              "outlinewidth": 0,
              "ticks": ""
             }
            },
            "type": "scattergeo"
           }
          ],
          "scattergl": [
           {
            "marker": {
             "colorbar": {
              "outlinewidth": 0,
              "ticks": ""
             }
            },
            "type": "scattergl"
           }
          ],
          "scattermapbox": [
           {
            "marker": {
             "colorbar": {
              "outlinewidth": 0,
              "ticks": ""
             }
            },
            "type": "scattermapbox"
           }
          ],
          "scatterpolar": [
           {
            "marker": {
             "colorbar": {
              "outlinewidth": 0,
              "ticks": ""
             }
            },
            "type": "scatterpolar"
           }
          ],
          "scatterpolargl": [
           {
            "marker": {
             "colorbar": {
              "outlinewidth": 0,
              "ticks": ""
             }
            },
            "type": "scatterpolargl"
           }
          ],
          "scatterternary": [
           {
            "marker": {
             "colorbar": {
              "outlinewidth": 0,
              "ticks": ""
             }
            },
            "type": "scatterternary"
           }
          ],
          "surface": [
           {
            "colorbar": {
             "outlinewidth": 0,
             "ticks": ""
            },
            "colorscale": [
             [
              0,
              "#0d0887"
             ],
             [
              0.1111111111111111,
              "#46039f"
             ],
             [
              0.2222222222222222,
              "#7201a8"
             ],
             [
              0.3333333333333333,
              "#9c179e"
             ],
             [
              0.4444444444444444,
              "#bd3786"
             ],
             [
              0.5555555555555556,
              "#d8576b"
             ],
             [
              0.6666666666666666,
              "#ed7953"
             ],
             [
              0.7777777777777778,
              "#fb9f3a"
             ],
             [
              0.8888888888888888,
              "#fdca26"
             ],
             [
              1,
              "#f0f921"
             ]
            ],
            "type": "surface"
           }
          ],
          "table": [
           {
            "cells": {
             "fill": {
              "color": "#EBF0F8"
             },
             "line": {
              "color": "white"
             }
            },
            "header": {
             "fill": {
              "color": "#C8D4E3"
             },
             "line": {
              "color": "white"
             }
            },
            "type": "table"
           }
          ]
         },
         "layout": {
          "annotationdefaults": {
           "arrowcolor": "#2a3f5f",
           "arrowhead": 0,
           "arrowwidth": 1
          },
          "autotypenumbers": "strict",
          "coloraxis": {
           "colorbar": {
            "outlinewidth": 0,
            "ticks": ""
           }
          },
          "colorscale": {
           "diverging": [
            [
             0,
             "#8e0152"
            ],
            [
             0.1,
             "#c51b7d"
            ],
            [
             0.2,
             "#de77ae"
            ],
            [
             0.3,
             "#f1b6da"
            ],
            [
             0.4,
             "#fde0ef"
            ],
            [
             0.5,
             "#f7f7f7"
            ],
            [
             0.6,
             "#e6f5d0"
            ],
            [
             0.7,
             "#b8e186"
            ],
            [
             0.8,
             "#7fbc41"
            ],
            [
             0.9,
             "#4d9221"
            ],
            [
             1,
             "#276419"
            ]
           ],
           "sequential": [
            [
             0,
             "#0d0887"
            ],
            [
             0.1111111111111111,
             "#46039f"
            ],
            [
             0.2222222222222222,
             "#7201a8"
            ],
            [
             0.3333333333333333,
             "#9c179e"
            ],
            [
             0.4444444444444444,
             "#bd3786"
            ],
            [
             0.5555555555555556,
             "#d8576b"
            ],
            [
             0.6666666666666666,
             "#ed7953"
            ],
            [
             0.7777777777777778,
             "#fb9f3a"
            ],
            [
             0.8888888888888888,
             "#fdca26"
            ],
            [
             1,
             "#f0f921"
            ]
           ],
           "sequentialminus": [
            [
             0,
             "#0d0887"
            ],
            [
             0.1111111111111111,
             "#46039f"
            ],
            [
             0.2222222222222222,
             "#7201a8"
            ],
            [
             0.3333333333333333,
             "#9c179e"
            ],
            [
             0.4444444444444444,
             "#bd3786"
            ],
            [
             0.5555555555555556,
             "#d8576b"
            ],
            [
             0.6666666666666666,
             "#ed7953"
            ],
            [
             0.7777777777777778,
             "#fb9f3a"
            ],
            [
             0.8888888888888888,
             "#fdca26"
            ],
            [
             1,
             "#f0f921"
            ]
           ]
          },
          "colorway": [
           "#636efa",
           "#EF553B",
           "#00cc96",
           "#ab63fa",
           "#FFA15A",
           "#19d3f3",
           "#FF6692",
           "#B6E880",
           "#FF97FF",
           "#FECB52"
          ],
          "font": {
           "color": "#2a3f5f"
          },
          "geo": {
           "bgcolor": "white",
           "lakecolor": "white",
           "landcolor": "#E5ECF6",
           "showlakes": true,
           "showland": true,
           "subunitcolor": "white"
          },
          "hoverlabel": {
           "align": "left"
          },
          "hovermode": "closest",
          "mapbox": {
           "style": "light"
          },
          "paper_bgcolor": "white",
          "plot_bgcolor": "#E5ECF6",
          "polar": {
           "angularaxis": {
            "gridcolor": "white",
            "linecolor": "white",
            "ticks": ""
           },
           "bgcolor": "#E5ECF6",
           "radialaxis": {
            "gridcolor": "white",
            "linecolor": "white",
            "ticks": ""
           }
          },
          "scene": {
           "xaxis": {
            "backgroundcolor": "#E5ECF6",
            "gridcolor": "white",
            "gridwidth": 2,
            "linecolor": "white",
            "showbackground": true,
            "ticks": "",
            "zerolinecolor": "white"
           },
           "yaxis": {
            "backgroundcolor": "#E5ECF6",
            "gridcolor": "white",
            "gridwidth": 2,
            "linecolor": "white",
            "showbackground": true,
            "ticks": "",
            "zerolinecolor": "white"
           },
           "zaxis": {
            "backgroundcolor": "#E5ECF6",
            "gridcolor": "white",
            "gridwidth": 2,
            "linecolor": "white",
            "showbackground": true,
            "ticks": "",
            "zerolinecolor": "white"
           }
          },
          "shapedefaults": {
           "line": {
            "color": "#2a3f5f"
           }
          },
          "ternary": {
           "aaxis": {
            "gridcolor": "white",
            "linecolor": "white",
            "ticks": ""
           },
           "baxis": {
            "gridcolor": "white",
            "linecolor": "white",
            "ticks": ""
           },
           "bgcolor": "#E5ECF6",
           "caxis": {
            "gridcolor": "white",
            "linecolor": "white",
            "ticks": ""
           }
          },
          "title": {
           "x": 0.05
          },
          "xaxis": {
           "automargin": true,
           "gridcolor": "white",
           "linecolor": "white",
           "ticks": "",
           "title": {
            "standoff": 15
           },
           "zerolinecolor": "white",
           "zerolinewidth": 2
          },
          "yaxis": {
           "automargin": true,
           "gridcolor": "white",
           "linecolor": "white",
           "ticks": "",
           "title": {
            "standoff": 15
           },
           "zerolinecolor": "white",
           "zerolinewidth": 2
          }
         }
        }
       }
      }
     },
     "metadata": {},
     "output_type": "display_data"
    }
   ],
   "source": [
    "import plotly.graph_objects as go\n",
    "\n",
    "mapbox_access_token = \"pk.eyJ1IjoicmF6YS05OCIsImEiOiJjbHEzaWJkdjEwZHhsMnNseHdjcG5xM2x5In0.YJhEoq8E7Rdne1fSidrfBQ\"\n",
    "\n",
    "import plotly.graph_objects as go\n",
    "\n",
    "# Ask the user where they want to go\n",
    "user_input = input(\"Where do you want to go in these locations? \")\n",
    "\n",
    "# Filter the data frame based on the user's input\n",
    "filtered_locations = locations.query(\"city == @user_input\")\n",
    "\n",
    "fig = go.Figure(go.Scattermapbox(\n",
    "        lat=['38.91427','38.91538','38.91458',\n",
    "             '38.92239','38.93222','38.90842',\n",
    "             '38.91931','38.93260','38.91368',\n",
    "             '38.88516','38.921894','38.93206',\n",
    "             '38.91275'],\n",
    "        lon=['-77.02827','-77.02013','-77.03155',\n",
    "             '-77.04227','-77.02854','-77.02419',\n",
    "             '-77.02518','-77.03304','-77.04509',\n",
    "             '-76.99656','-77.042438','-77.02821',\n",
    "             '-77.01239'],\n",
    "        mode='markers',\n",
    "        marker=go.scattermapbox.Marker(\n",
    "            size=9\n",
    "        ),\n",
    "        text=[\"The coffee bar\",\"Bistro Bohem\",\"Black Cat\",\n",
    "             \"Snap\",\"Columbia Heights Coffee\",\"Azi's Cafe\",\n",
    "             \"Blind Dog Cafe\",\"Le Caprice\",\"Filter\",\n",
    "             \"Peregrine\",\"Tryst\",\"The Coupe\",\n",
    "             \"Big Bear Cafe\"],\n",
    "    ))\n",
    "\n",
    "fig.update_layout(\n",
    "    autosize=True,\n",
    "    mapbox_style=\"light\", # you can change the style of the map\n",
    "    hovermode='closest',\n",
    "    mapbox=dict(\n",
    "        accesstoken=mapbox_access_token,\n",
    "        bearing=0,\n",
    "        center=dict(\n",
    "            # lat=float(filtered_locations[\"lat\"]),\n",
    "            # lon=float(filtered_locations[\"lon\"]),\n",
    "            lat=38.92,\n",
    "            lon=-77.07\n",
    "        ),\n",
    "        pitch=0,\n",
    "        zoom=10\n",
    "    ),\n",
    ")\n",
    "\n",
    "fig.show()"
   ]
  },
  {
   "cell_type": "code",
   "execution_count": 7,
   "metadata": {},
   "outputs": [
    {
     "name": "stdout",
     "output_type": "stream",
     "text": [
      "No coffees found in Perris.\n"
     ]
    }
   ],
   "source": [
    "import plotly.graph_objects as go\n",
    "import plotly.express as px\n",
    "import pandas as pd\n",
    "\n",
    "# Load locations dataset\n",
    "locations = pd.read_csv(\"https://raw.githubusercontent.com/plotly/datasets/master/us-cities-top-1k.csv\",\n",
    "                        names=[\"city\", \"state\", \"population\", \"lat\", \"lon\"])\n",
    "\n",
    "# Get user input\n",
    "user_input = input(\"What type of place are you looking for and in which location (e.g., 'coffee shop in Paris', 'dance bar in New York')? \")\n",
    "\n",
    "# Extract location and place type from user input\n",
    "words = user_input.split()\n",
    "place_type = words[0]\n",
    "location = ' '.join(words[3:]).capitalize()\n",
    "\n",
    "# Convert the user input and DataFrame column to lowercase for case-insensitive comparison\n",
    "locations['city_lower'] = locations['city'].str.lower()\n",
    "location_lower = location.lower()\n",
    "\n",
    "# Filter locations based on the user's input (case-insensitive)\n",
    "filtered_locations = locations.query(\"city_lower == @location_lower\")\n",
    "\n",
    "# Check if the filtered DataFrame is empty\n",
    "if len(filtered_locations) == 0:\n",
    "    print(f\"No data found for {location}.\")\n",
    "else:\n",
    "    # Filter locations based on place type\n",
    "    filtered_locations = filtered_locations[filtered_locations['city'].str.contains(place_type, case=False)]\n",
    "\n",
    "    if len(filtered_locations) == 0:\n",
    "        print(f\"No {place_type}s found in {location}.\")\n",
    "    else:\n",
    "        # Create a map centered around the user's specified location\n",
    "        fig = go.Figure(go.Scattergeo(\n",
    "            lon=filtered_locations['lon'],\n",
    "            lat=filtered_locations['lat'],\n",
    "            mode='markers+text',\n",
    "            marker=dict(size=8, color='red'),\n",
    "            text=filtered_locations['city'] + ', ' + filtered_locations['state'],\n",
    "            textposition=\"bottom center\"\n",
    "        ))\n",
    "\n",
    "        # Update layout\n",
    "        fig.update_geos(\n",
    "            visible=False, resolution=50,\n",
    "            showcountries=True, countrycolor=\"Black\",\n",
    "            showsubunits=True, subunitcolor=\"Blue\"\n",
    "        )\n",
    "\n",
    "        fig.update_layout(\n",
    "            geo=dict(\n",
    "                center=dict(lon=filtered_locations['lon'].values[0], lat=filtered_locations['lat'].values[0]),\n",
    "                projection_scale=5,\n",
    "                center_lon=0\n",
    "            ),\n",
    "            height=500,\n",
    "            title_text=f\"{place_type.capitalize()}s in {location}\",\n",
    "            margin={\"r\": 0, \"t\": 30, \"l\": 0, \"b\": 0}\n",
    "        )\n",
    "\n",
    "        # Show the map\n",
    "        fig.show()\n"
   ]
  },
  {
   "cell_type": "code",
   "execution_count": 4,
   "metadata": {},
   "outputs": [
    {
     "name": "stdout",
     "output_type": "stream",
     "text": [
      "Location: luxembourg Gardens\n",
      "Latitude: 42.893485, Longitude: -88.020167\n"
     ]
    }
   ],
   "source": [
    "import requests\n",
    "\n",
    "# Replace 'YOUR_MAPBOX_ACCESS_TOKEN' with your actual Mapbox access token\n",
    "MAPBOX_ACCESS_TOKEN = 'pk.eyJ1IjoicmF6YS05OCIsImEiOiJjbHEzaWJkdjEwZHhsMnNseHdjcG5xM2x5In0.YJhEoq8E7Rdne1fSidrfBQ'\n",
    "\n",
    "# Mapbox Geocoding API endpoint\n",
    "geocoding_endpoint = 'https://api.mapbox.com/geocoding/v5/mapbox.places/'\n",
    "\n",
    "# User input: replace 'New York City' with the location you want to geocode\n",
    "location_query = 'luxembourg Gardens'\n",
    "\n",
    "# Construct the URL for the geocoding request\n",
    "url = f'{geocoding_endpoint}{location_query}.json?access_token={MAPBOX_ACCESS_TOKEN}'\n",
    "\n",
    "# Make the request to Mapbox Geocoding API\n",
    "response = requests.get(url)\n",
    "\n",
    "# Check if the request was successful (HTTP status code 200)\n",
    "if response.status_code == 200:\n",
    "    # Parse the JSON response\n",
    "    data = response.json()\n",
    "\n",
    "    # Extract the first result (assuming it's the most relevant)\n",
    "    first_result = data['features'][0]\n",
    "\n",
    "    # Extract latitude and longitude\n",
    "    latitude = first_result['center'][1]\n",
    "    longitude = first_result['center'][0]\n",
    "\n",
    "    print(f'Location: {location_query}')\n",
    "    print(f'Latitude: {latitude}, Longitude: {longitude}')\n",
    "else:\n",
    "    print(f'Error: {response.status_code}')\n",
    "    print(response.text)\n"
   ]
  },
  {
   "cell_type": "code",
   "execution_count": 9,
   "metadata": {},
   "outputs": [
    {
     "data": {
      "text/html": [
       "<div style=\"width:100%;\"><div style=\"position:relative;width:100%;height:0;padding-bottom:60%;\"><span style=\"color:#565656\">Make this Notebook Trusted to load map: File -> Trust Notebook</span><iframe srcdoc=\"&lt;!DOCTYPE html&gt;\n",
       "&lt;html&gt;\n",
       "&lt;head&gt;\n",
       "    \n",
       "    &lt;meta http-equiv=&quot;content-type&quot; content=&quot;text/html; charset=UTF-8&quot; /&gt;\n",
       "    \n",
       "        &lt;script&gt;\n",
       "            L_NO_TOUCH = false;\n",
       "            L_DISABLE_3D = false;\n",
       "        &lt;/script&gt;\n",
       "    \n",
       "    &lt;style&gt;html, body {width: 100%;height: 100%;margin: 0;padding: 0;}&lt;/style&gt;\n",
       "    &lt;style&gt;#map {position:absolute;top:0;bottom:0;right:0;left:0;}&lt;/style&gt;\n",
       "    &lt;script src=&quot;https://cdn.jsdelivr.net/npm/leaflet@1.9.3/dist/leaflet.js&quot;&gt;&lt;/script&gt;\n",
       "    &lt;script src=&quot;https://code.jquery.com/jquery-3.7.1.min.js&quot;&gt;&lt;/script&gt;\n",
       "    &lt;script src=&quot;https://cdn.jsdelivr.net/npm/bootstrap@5.2.2/dist/js/bootstrap.bundle.min.js&quot;&gt;&lt;/script&gt;\n",
       "    &lt;script src=&quot;https://cdnjs.cloudflare.com/ajax/libs/Leaflet.awesome-markers/2.0.2/leaflet.awesome-markers.js&quot;&gt;&lt;/script&gt;\n",
       "    &lt;link rel=&quot;stylesheet&quot; href=&quot;https://cdn.jsdelivr.net/npm/leaflet@1.9.3/dist/leaflet.css&quot;/&gt;\n",
       "    &lt;link rel=&quot;stylesheet&quot; href=&quot;https://cdn.jsdelivr.net/npm/bootstrap@5.2.2/dist/css/bootstrap.min.css&quot;/&gt;\n",
       "    &lt;link rel=&quot;stylesheet&quot; href=&quot;https://netdna.bootstrapcdn.com/bootstrap/3.0.0/css/bootstrap.min.css&quot;/&gt;\n",
       "    &lt;link rel=&quot;stylesheet&quot; href=&quot;https://cdn.jsdelivr.net/npm/@fortawesome/fontawesome-free@6.2.0/css/all.min.css&quot;/&gt;\n",
       "    &lt;link rel=&quot;stylesheet&quot; href=&quot;https://cdnjs.cloudflare.com/ajax/libs/Leaflet.awesome-markers/2.0.2/leaflet.awesome-markers.css&quot;/&gt;\n",
       "    &lt;link rel=&quot;stylesheet&quot; href=&quot;https://cdn.jsdelivr.net/gh/python-visualization/folium/folium/templates/leaflet.awesome.rotate.min.css&quot;/&gt;\n",
       "    \n",
       "            &lt;meta name=&quot;viewport&quot; content=&quot;width=device-width,\n",
       "                initial-scale=1.0, maximum-scale=1.0, user-scalable=no&quot; /&gt;\n",
       "            &lt;style&gt;\n",
       "                #map_a63040a706d18ca50e0e74f77a93220b {\n",
       "                    position: relative;\n",
       "                    width: 100.0%;\n",
       "                    height: 100.0%;\n",
       "                    left: 0.0%;\n",
       "                    top: 0.0%;\n",
       "                }\n",
       "                .leaflet-container { font-size: 1rem; }\n",
       "            &lt;/style&gt;\n",
       "        \n",
       "&lt;/head&gt;\n",
       "&lt;body&gt;\n",
       "    \n",
       "    \n",
       "            &lt;div class=&quot;folium-map&quot; id=&quot;map_a63040a706d18ca50e0e74f77a93220b&quot; &gt;&lt;/div&gt;\n",
       "        \n",
       "&lt;/body&gt;\n",
       "&lt;script&gt;\n",
       "    \n",
       "    \n",
       "            var map_a63040a706d18ca50e0e74f77a93220b = L.map(\n",
       "                &quot;map_a63040a706d18ca50e0e74f77a93220b&quot;,\n",
       "                {\n",
       "                    center: [33.782519, -117.228648],\n",
       "                    crs: L.CRS.EPSG3857,\n",
       "                    zoom: 15,\n",
       "                    zoomControl: true,\n",
       "                    preferCanvas: false,\n",
       "                }\n",
       "            );\n",
       "\n",
       "            \n",
       "\n",
       "        \n",
       "    \n",
       "            var tile_layer_32caccb8672c392b0eeeb5cc000fb4c5 = L.tileLayer(\n",
       "                &quot;https://tile.openstreetmap.org/{z}/{x}/{y}.png&quot;,\n",
       "                {&quot;attribution&quot;: &quot;\\u0026copy; \\u003ca href=\\&quot;https://www.openstreetmap.org/copyright\\&quot;\\u003eOpenStreetMap\\u003c/a\\u003e contributors&quot;, &quot;detectRetina&quot;: false, &quot;maxNativeZoom&quot;: 19, &quot;maxZoom&quot;: 19, &quot;minZoom&quot;: 0, &quot;noWrap&quot;: false, &quot;opacity&quot;: 1, &quot;subdomains&quot;: &quot;abc&quot;, &quot;tms&quot;: false}\n",
       "            );\n",
       "        \n",
       "    \n",
       "            tile_layer_32caccb8672c392b0eeeb5cc000fb4c5.addTo(map_a63040a706d18ca50e0e74f77a93220b);\n",
       "        \n",
       "    \n",
       "            var marker_61b897b5638dcba671443681bd8402df = L.marker(\n",
       "                [33.782519, -117.228648],\n",
       "                {}\n",
       "            ).addTo(map_a63040a706d18ca50e0e74f77a93220b);\n",
       "        \n",
       "    \n",
       "        var popup_de01afb7812810a7f138ad4d5734e7e9 = L.popup({&quot;maxWidth&quot;: &quot;100%&quot;});\n",
       "\n",
       "        \n",
       "            \n",
       "                var html_b930c211e9d2ba2f52de94c2b4275625 = $(`&lt;div id=&quot;html_b930c211e9d2ba2f52de94c2b4275625&quot; style=&quot;width: 100.0%; height: 100.0%;&quot;&gt;perris&lt;/div&gt;`)[0];\n",
       "                popup_de01afb7812810a7f138ad4d5734e7e9.setContent(html_b930c211e9d2ba2f52de94c2b4275625);\n",
       "            \n",
       "        \n",
       "\n",
       "        marker_61b897b5638dcba671443681bd8402df.bindPopup(popup_de01afb7812810a7f138ad4d5734e7e9)\n",
       "        ;\n",
       "\n",
       "        \n",
       "    \n",
       "&lt;/script&gt;\n",
       "&lt;/html&gt;\" style=\"position:absolute;width:100%;height:100%;left:0;top:0;border:none !important;\" allowfullscreen webkitallowfullscreen mozallowfullscreen></iframe></div></div>"
      ],
      "text/plain": [
       "<folium.folium.Map at 0x270d713f460>"
      ]
     },
     "metadata": {},
     "output_type": "display_data"
    }
   ],
   "source": [
    "import requests\n",
    "import folium\n",
    "from IPython.display import display\n",
    "\n",
    "# Replace 'YOUR_MAPBOX_ACCESS_TOKEN' with your actual Mapbox access token\n",
    "MAPBOX_ACCESS_TOKEN = 'pk.eyJ1IjoicmF6YS05OCIsImEiOiJjbHEzaWJkdjEwZHhsMnNseHdjcG5xM2x5In0.YJhEoq8E7Rdne1fSidrfBQ'\n",
    "\n",
    "# Mapbox Geocoding API endpoint\n",
    "geocoding_endpoint = 'https://api.mapbox.com/geocoding/v5/mapbox.places/'\n",
    "\n",
    "# User input: replace 'New York City' with the location you want to geocode\n",
    "location_query = 'perris'\n",
    "\n",
    "# Construct the URL for the geocoding request\n",
    "url = f'{geocoding_endpoint}{location_query}.json?access_token={MAPBOX_ACCESS_TOKEN}'\n",
    "\n",
    "# Make the request to Mapbox Geocoding API\n",
    "response = requests.get(url)\n",
    "\n",
    "# Check if the request was successful (HTTP status code 200)\n",
    "if response.status_code == 200:\n",
    "    # Parse the JSON response\n",
    "    data = response.json()\n",
    "\n",
    "    # Extract the first result (assuming it's the most relevant)\n",
    "    first_result = data['features'][0]\n",
    "\n",
    "    # Extract latitude and longitude\n",
    "    latitude = first_result['center'][1]\n",
    "    longitude = first_result['center'][0]\n",
    "\n",
    "    # Create a Folium map centered at the geocoded location\n",
    "    m = folium.Map(location=[latitude, longitude], zoom_start=15)\n",
    "\n",
    "    # Add a marker for the geocoded location\n",
    "    folium.Marker([latitude, longitude], popup=location_query).add_to(m)\n",
    "\n",
    "    # Display the map directly in the Jupyter notebook\n",
    "    display(m)\n",
    "else:\n",
    "    print(f'Error: {response.status_code}')\n",
    "    print(response.text)\n"
   ]
  },
  {
   "cell_type": "code",
   "execution_count": 10,
   "metadata": {},
   "outputs": [
    {
     "data": {
      "text/html": [
       "<div style=\"width:100%;\"><div style=\"position:relative;width:100%;height:0;padding-bottom:60%;\"><span style=\"color:#565656\">Make this Notebook Trusted to load map: File -> Trust Notebook</span><iframe srcdoc=\"&lt;!DOCTYPE html&gt;\n",
       "&lt;html&gt;\n",
       "&lt;head&gt;\n",
       "    \n",
       "    &lt;meta http-equiv=&quot;content-type&quot; content=&quot;text/html; charset=UTF-8&quot; /&gt;\n",
       "    \n",
       "        &lt;script&gt;\n",
       "            L_NO_TOUCH = false;\n",
       "            L_DISABLE_3D = false;\n",
       "        &lt;/script&gt;\n",
       "    \n",
       "    &lt;style&gt;html, body {width: 100%;height: 100%;margin: 0;padding: 0;}&lt;/style&gt;\n",
       "    &lt;style&gt;#map {position:absolute;top:0;bottom:0;right:0;left:0;}&lt;/style&gt;\n",
       "    &lt;script src=&quot;https://cdn.jsdelivr.net/npm/leaflet@1.9.3/dist/leaflet.js&quot;&gt;&lt;/script&gt;\n",
       "    &lt;script src=&quot;https://code.jquery.com/jquery-3.7.1.min.js&quot;&gt;&lt;/script&gt;\n",
       "    &lt;script src=&quot;https://cdn.jsdelivr.net/npm/bootstrap@5.2.2/dist/js/bootstrap.bundle.min.js&quot;&gt;&lt;/script&gt;\n",
       "    &lt;script src=&quot;https://cdnjs.cloudflare.com/ajax/libs/Leaflet.awesome-markers/2.0.2/leaflet.awesome-markers.js&quot;&gt;&lt;/script&gt;\n",
       "    &lt;link rel=&quot;stylesheet&quot; href=&quot;https://cdn.jsdelivr.net/npm/leaflet@1.9.3/dist/leaflet.css&quot;/&gt;\n",
       "    &lt;link rel=&quot;stylesheet&quot; href=&quot;https://cdn.jsdelivr.net/npm/bootstrap@5.2.2/dist/css/bootstrap.min.css&quot;/&gt;\n",
       "    &lt;link rel=&quot;stylesheet&quot; href=&quot;https://netdna.bootstrapcdn.com/bootstrap/3.0.0/css/bootstrap.min.css&quot;/&gt;\n",
       "    &lt;link rel=&quot;stylesheet&quot; href=&quot;https://cdn.jsdelivr.net/npm/@fortawesome/fontawesome-free@6.2.0/css/all.min.css&quot;/&gt;\n",
       "    &lt;link rel=&quot;stylesheet&quot; href=&quot;https://cdnjs.cloudflare.com/ajax/libs/Leaflet.awesome-markers/2.0.2/leaflet.awesome-markers.css&quot;/&gt;\n",
       "    &lt;link rel=&quot;stylesheet&quot; href=&quot;https://cdn.jsdelivr.net/gh/python-visualization/folium/folium/templates/leaflet.awesome.rotate.min.css&quot;/&gt;\n",
       "    \n",
       "            &lt;meta name=&quot;viewport&quot; content=&quot;width=device-width,\n",
       "                initial-scale=1.0, maximum-scale=1.0, user-scalable=no&quot; /&gt;\n",
       "            &lt;style&gt;\n",
       "                #map_21ada42c378ab20836cf85ffd56930f3 {\n",
       "                    position: relative;\n",
       "                    width: 100.0%;\n",
       "                    height: 100.0%;\n",
       "                    left: 0.0%;\n",
       "                    top: 0.0%;\n",
       "                }\n",
       "                .leaflet-container { font-size: 1rem; }\n",
       "            &lt;/style&gt;\n",
       "        \n",
       "&lt;/head&gt;\n",
       "&lt;body&gt;\n",
       "    \n",
       "    \n",
       "            &lt;div class=&quot;folium-map&quot; id=&quot;map_21ada42c378ab20836cf85ffd56930f3&quot; &gt;&lt;/div&gt;\n",
       "        \n",
       "&lt;/body&gt;\n",
       "&lt;script&gt;\n",
       "    \n",
       "    \n",
       "            var map_21ada42c378ab20836cf85ffd56930f3 = L.map(\n",
       "                &quot;map_21ada42c378ab20836cf85ffd56930f3&quot;,\n",
       "                {\n",
       "                    center: [48.8534951, 2.3483915],\n",
       "                    crs: L.CRS.EPSG3857,\n",
       "                    zoom: 12,\n",
       "                    zoomControl: true,\n",
       "                    preferCanvas: false,\n",
       "                }\n",
       "            );\n",
       "\n",
       "            \n",
       "\n",
       "        \n",
       "    \n",
       "            var tile_layer_5baf5b75d103bf1c811d1d7661fbc286 = L.tileLayer(\n",
       "                &quot;https://tile.openstreetmap.org/{z}/{x}/{y}.png&quot;,\n",
       "                {&quot;attribution&quot;: &quot;\\u0026copy; \\u003ca href=\\&quot;https://www.openstreetmap.org/copyright\\&quot;\\u003eOpenStreetMap\\u003c/a\\u003e contributors&quot;, &quot;detectRetina&quot;: false, &quot;maxNativeZoom&quot;: 19, &quot;maxZoom&quot;: 19, &quot;minZoom&quot;: 0, &quot;noWrap&quot;: false, &quot;opacity&quot;: 1, &quot;subdomains&quot;: &quot;abc&quot;, &quot;tms&quot;: false}\n",
       "            );\n",
       "        \n",
       "    \n",
       "            tile_layer_5baf5b75d103bf1c811d1d7661fbc286.addTo(map_21ada42c378ab20836cf85ffd56930f3);\n",
       "        \n",
       "    \n",
       "            var marker_c3c191a852b9b58a8d80eed74e1713e7 = L.marker(\n",
       "                [48.8534951, 2.3483915],\n",
       "                {}\n",
       "            ).addTo(map_21ada42c378ab20836cf85ffd56930f3);\n",
       "        \n",
       "    \n",
       "        var popup_9396142705be0fee190027cb8b2c6a96 = L.popup({&quot;maxWidth&quot;: &quot;100%&quot;});\n",
       "\n",
       "        \n",
       "            \n",
       "                var html_0da1e296438d8f1d7a896165bc4a5292 = $(`&lt;div id=&quot;html_0da1e296438d8f1d7a896165bc4a5292&quot; style=&quot;width: 100.0%; height: 100.0%;&quot;&gt;paris&lt;/div&gt;`)[0];\n",
       "                popup_9396142705be0fee190027cb8b2c6a96.setContent(html_0da1e296438d8f1d7a896165bc4a5292);\n",
       "            \n",
       "        \n",
       "\n",
       "        marker_c3c191a852b9b58a8d80eed74e1713e7.bindPopup(popup_9396142705be0fee190027cb8b2c6a96)\n",
       "        ;\n",
       "\n",
       "        \n",
       "    \n",
       "&lt;/script&gt;\n",
       "&lt;/html&gt;\" style=\"position:absolute;width:100%;height:100%;left:0;top:0;border:none !important;\" allowfullscreen webkitallowfullscreen mozallowfullscreen></iframe></div></div>"
      ],
      "text/plain": [
       "<folium.folium.Map at 0x270d713d780>"
      ]
     },
     "metadata": {},
     "output_type": "display_data"
    },
    {
     "name": "stdout",
     "output_type": "stream",
     "text": [
      "Exiting. Thank you for using the map!\n"
     ]
    }
   ],
   "source": [
    "import requests\n",
    "import folium\n",
    "from IPython.display import display, clear_output\n",
    "\n",
    "# Replace 'YOUR_MAPBOX_ACCESS_TOKEN' with your actual Mapbox access token\n",
    "MAPBOX_ACCESS_TOKEN = 'pk.eyJ1IjoicmF6YS05OCIsImEiOiJjbHEzaWJkdjEwZHhsMnNseHdjcG5xM2x5In0.YJhEoq8E7Rdne1fSidrfBQ'\n",
    "\n",
    "# Mapbox Geocoding API endpoint\n",
    "geocoding_endpoint = 'https://api.mapbox.com/geocoding/v5/mapbox.places/'\n",
    "\n",
    "# Create an initial map\n",
    "m = folium.Map(location=[0, 0], zoom_start=2)\n",
    "\n",
    "def geocode_location(location_query):\n",
    "    url = f'{geocoding_endpoint}{location_query}.json?access_token={MAPBOX_ACCESS_TOKEN}'\n",
    "    response = requests.get(url)\n",
    "    \n",
    "    if response.status_code == 200:\n",
    "        data = response.json()\n",
    "        first_result = data['features'][0]\n",
    "        latitude = first_result['center'][1]\n",
    "        longitude = first_result['center'][0]\n",
    "        return latitude, longitude\n",
    "    else:\n",
    "        print(f'Error: {response.status_code}')\n",
    "        print(response.text)\n",
    "        return None\n",
    "\n",
    "# User input loop\n",
    "while True:\n",
    "    user_input = input(\"Enter a location to search (type 'q' to quit): \")\n",
    "    \n",
    "    if user_input.lower() == 'q':\n",
    "        break\n",
    "    \n",
    "    # Geocode the location\n",
    "    coordinates = geocode_location(user_input)\n",
    "    \n",
    "    if coordinates:\n",
    "        # Update the map\n",
    "        m = folium.Map(location=coordinates, zoom_start=12)\n",
    "        folium.Marker(coordinates, popup=user_input).add_to(m)\n",
    "\n",
    "        # Display the updated map\n",
    "        clear_output(wait=True)\n",
    "        display(m)\n",
    "\n",
    "# End of the loop\n",
    "print(\"Exiting. Thank you for using the map!\")\n"
   ]
  },
  {
   "cell_type": "code",
   "execution_count": 3,
   "metadata": {},
   "outputs": [
    {
     "data": {
      "text/html": [
       "<div style=\"width:100%;\"><div style=\"position:relative;width:100%;height:0;padding-bottom:60%;\"><span style=\"color:#565656\">Make this Notebook Trusted to load map: File -> Trust Notebook</span><iframe srcdoc=\"&lt;!DOCTYPE html&gt;\n",
       "&lt;html&gt;\n",
       "&lt;head&gt;\n",
       "    \n",
       "    &lt;meta http-equiv=&quot;content-type&quot; content=&quot;text/html; charset=UTF-8&quot; /&gt;\n",
       "    \n",
       "        &lt;script&gt;\n",
       "            L_NO_TOUCH = false;\n",
       "            L_DISABLE_3D = false;\n",
       "        &lt;/script&gt;\n",
       "    \n",
       "    &lt;style&gt;html, body {width: 100%;height: 100%;margin: 0;padding: 0;}&lt;/style&gt;\n",
       "    &lt;style&gt;#map {position:absolute;top:0;bottom:0;right:0;left:0;}&lt;/style&gt;\n",
       "    &lt;script src=&quot;https://cdn.jsdelivr.net/npm/leaflet@1.9.3/dist/leaflet.js&quot;&gt;&lt;/script&gt;\n",
       "    &lt;script src=&quot;https://code.jquery.com/jquery-3.7.1.min.js&quot;&gt;&lt;/script&gt;\n",
       "    &lt;script src=&quot;https://cdn.jsdelivr.net/npm/bootstrap@5.2.2/dist/js/bootstrap.bundle.min.js&quot;&gt;&lt;/script&gt;\n",
       "    &lt;script src=&quot;https://cdnjs.cloudflare.com/ajax/libs/Leaflet.awesome-markers/2.0.2/leaflet.awesome-markers.js&quot;&gt;&lt;/script&gt;\n",
       "    &lt;link rel=&quot;stylesheet&quot; href=&quot;https://cdn.jsdelivr.net/npm/leaflet@1.9.3/dist/leaflet.css&quot;/&gt;\n",
       "    &lt;link rel=&quot;stylesheet&quot; href=&quot;https://cdn.jsdelivr.net/npm/bootstrap@5.2.2/dist/css/bootstrap.min.css&quot;/&gt;\n",
       "    &lt;link rel=&quot;stylesheet&quot; href=&quot;https://netdna.bootstrapcdn.com/bootstrap/3.0.0/css/bootstrap.min.css&quot;/&gt;\n",
       "    &lt;link rel=&quot;stylesheet&quot; href=&quot;https://cdn.jsdelivr.net/npm/@fortawesome/fontawesome-free@6.2.0/css/all.min.css&quot;/&gt;\n",
       "    &lt;link rel=&quot;stylesheet&quot; href=&quot;https://cdnjs.cloudflare.com/ajax/libs/Leaflet.awesome-markers/2.0.2/leaflet.awesome-markers.css&quot;/&gt;\n",
       "    &lt;link rel=&quot;stylesheet&quot; href=&quot;https://cdn.jsdelivr.net/gh/python-visualization/folium/folium/templates/leaflet.awesome.rotate.min.css&quot;/&gt;\n",
       "    \n",
       "            &lt;meta name=&quot;viewport&quot; content=&quot;width=device-width,\n",
       "                initial-scale=1.0, maximum-scale=1.0, user-scalable=no&quot; /&gt;\n",
       "            &lt;style&gt;\n",
       "                #map_c193abe94050cef472a004f1b7ed5336 {\n",
       "                    position: relative;\n",
       "                    width: 100.0%;\n",
       "                    height: 100.0%;\n",
       "                    left: 0.0%;\n",
       "                    top: 0.0%;\n",
       "                }\n",
       "                .leaflet-container { font-size: 1rem; }\n",
       "            &lt;/style&gt;\n",
       "        \n",
       "&lt;/head&gt;\n",
       "&lt;body&gt;\n",
       "    \n",
       "    \n",
       "            &lt;div class=&quot;folium-map&quot; id=&quot;map_c193abe94050cef472a004f1b7ed5336&quot; &gt;&lt;/div&gt;\n",
       "        \n",
       "&lt;/body&gt;\n",
       "&lt;script&gt;\n",
       "    \n",
       "    \n",
       "            var map_c193abe94050cef472a004f1b7ed5336 = L.map(\n",
       "                &quot;map_c193abe94050cef472a004f1b7ed5336&quot;,\n",
       "                {\n",
       "                    center: [40.721568, -74.047455],\n",
       "                    crs: L.CRS.EPSG3857,\n",
       "                    zoom: 12,\n",
       "                    zoomControl: true,\n",
       "                    preferCanvas: false,\n",
       "                }\n",
       "            );\n",
       "\n",
       "            \n",
       "\n",
       "        \n",
       "    \n",
       "            var tile_layer_dcc248a082051d781a5832b6febba4e6 = L.tileLayer(\n",
       "                &quot;https://tile.openstreetmap.org/{z}/{x}/{y}.png&quot;,\n",
       "                {&quot;attribution&quot;: &quot;\\u0026copy; \\u003ca href=\\&quot;https://www.openstreetmap.org/copyright\\&quot;\\u003eOpenStreetMap\\u003c/a\\u003e contributors&quot;, &quot;detectRetina&quot;: false, &quot;maxNativeZoom&quot;: 19, &quot;maxZoom&quot;: 19, &quot;minZoom&quot;: 0, &quot;noWrap&quot;: false, &quot;opacity&quot;: 1, &quot;subdomains&quot;: &quot;abc&quot;, &quot;tms&quot;: false}\n",
       "            );\n",
       "        \n",
       "    \n",
       "            tile_layer_dcc248a082051d781a5832b6febba4e6.addTo(map_c193abe94050cef472a004f1b7ed5336);\n",
       "        \n",
       "    \n",
       "            var marker_5bc5d7715f3aef5734152a68ba95beef = L.marker(\n",
       "                [40.721568, -74.047455],\n",
       "                {}\n",
       "            ).addTo(map_c193abe94050cef472a004f1b7ed5336);\n",
       "        \n",
       "    \n",
       "        var popup_7f7e4ab972b36472bd8a80baa8b01b34 = L.popup({&quot;maxWidth&quot;: &quot;100%&quot;});\n",
       "\n",
       "        \n",
       "            \n",
       "                var html_e7c37e1a620796dc7874a568a548ac66 = $(`&lt;div id=&quot;html_e7c37e1a620796dc7874a568a548ac66&quot; style=&quot;width: 100.0%; height: 100.0%;&quot;&gt;jersey city&lt;/div&gt;`)[0];\n",
       "                popup_7f7e4ab972b36472bd8a80baa8b01b34.setContent(html_e7c37e1a620796dc7874a568a548ac66);\n",
       "            \n",
       "        \n",
       "\n",
       "        marker_5bc5d7715f3aef5734152a68ba95beef.bindPopup(popup_7f7e4ab972b36472bd8a80baa8b01b34)\n",
       "        ;\n",
       "\n",
       "        \n",
       "    \n",
       "&lt;/script&gt;\n",
       "&lt;/html&gt;\" style=\"position:absolute;width:100%;height:100%;left:0;top:0;border:none !important;\" allowfullscreen webkitallowfullscreen mozallowfullscreen></iframe></div></div>"
      ],
      "text/plain": [
       "<folium.folium.Map at 0x1b1d19c17e0>"
      ]
     },
     "metadata": {},
     "output_type": "display_data"
    },
    {
     "name": "stdout",
     "output_type": "stream",
     "text": [
      "Exiting. Thank you for using the map!\n"
     ]
    }
   ],
   "source": [
    "import requests\n",
    "import folium\n",
    "from IPython.display import display, HTML, clear_output\n",
    "import webbrowser\n",
    "from folium import plugins\n",
    "import requests\n",
    "\n",
    "# Replace 'YOUR_MAPBOX_ACCESS_TOKEN' with your actual Mapbox access token\n",
    "MAPBOX_ACCESS_TOKEN = 'pk.eyJ1IjoicmF6YS05OCIsImEiOiJjbHEzaWJkdjEwZHhsMnNseHdjcG5xM2x5In0.YJhEoq8E7Rdne1fSidrfBQ'\n",
    "\n",
    "# Mapbox Geocoding API endpoint\n",
    "geocoding_endpoint = 'https://api.mapbox.com/geocoding/v5/mapbox.places/'\n",
    "\n",
    "# Create an initial map\n",
    "initial_coordinates = [0, 0]\n",
    "m = folium.Map(location=initial_coordinates, zoom_start=2)\n",
    "\n",
    "def geocode_location(location_query):\n",
    "    url = f'{geocoding_endpoint}{location_query}.json?access_token={MAPBOX_ACCESS_TOKEN}'\n",
    "    response = requests.get(url)\n",
    "    \n",
    "    if response.status_code == 200:\n",
    "        data = response.json()\n",
    "        first_result = data['features'][0]\n",
    "        latitude = first_result['center'][1]\n",
    "        longitude = first_result['center'][0]\n",
    "        return latitude, longitude\n",
    "    else:\n",
    "        print(f'Error: {response.status_code}')\n",
    "        print(response.text)\n",
    "        return None\n",
    "\n",
    "# User input loop\n",
    "while True:\n",
    "    user_input = input(\"Enter a location to search (type 'q' to quit): \")\n",
    "    \n",
    "    if user_input.lower() == 'q':\n",
    "        break\n",
    "    \n",
    "    # Geocode the location\n",
    "    coordinates = geocode_location(user_input)\n",
    "    \n",
    "    if coordinates:\n",
    "        # Update the map with animation\n",
    "        m = folium.Map(location=coordinates, zoom_start=12)\n",
    "        folium.Marker(coordinates, popup=user_input).add_to(m)\n",
    "        # plugins.AntPath([initial_coordinates, coordinates], color='blue').add_to(m)\n",
    "\n",
    "        # Display the updated map\n",
    "        clear_output(wait=True)\n",
    "        display(m)\n",
    "\n",
    "        # Save the map to an HTML file\n",
    "        html_file_path = 'live_map.html'\n",
    "        m.save(html_file_path)\n",
    "\n",
    "                # Open Google Chrome with the location search\n",
    "        # search_url = f\"https://www.google.com/maps/search/{location_query.replace(' ', '+')}\"\n",
    "        # chrome_path = 'C:/Program Files/Google/Chrome/Application/chrome.exe %s'  # Adjust the path as needed\n",
    "        # webbrowser.get(chrome_path).open(search_url)\n",
    "\n",
    "\n",
    "# End of the loop\n",
    "print(\"Exiting. Thank you for using the map!\")\n"
   ]
  },
  {
   "cell_type": "code",
   "execution_count": 9,
   "metadata": {},
   "outputs": [
    {
     "name": "stdout",
     "output_type": "stream",
     "text": [
      "Latitude: 33.782519, Longitude: -117.228648\n",
      "Latitude: 40.7127492, Longitude: -74.0059945\n",
      "Latitude: 37.0743595873945, Longitude: -119.699375153073\n"
     ]
    },
    {
     "data": {
      "text/html": [
       "<div style=\"width:100%;\"><div style=\"position:relative;width:100%;height:0;padding-bottom:60%;\"><span style=\"color:#565656\">Make this Notebook Trusted to load map: File -> Trust Notebook</span><iframe srcdoc=\"&lt;!DOCTYPE html&gt;\n",
       "&lt;html&gt;\n",
       "&lt;head&gt;\n",
       "    \n",
       "    &lt;meta http-equiv=&quot;content-type&quot; content=&quot;text/html; charset=UTF-8&quot; /&gt;\n",
       "    \n",
       "        &lt;script&gt;\n",
       "            L_NO_TOUCH = false;\n",
       "            L_DISABLE_3D = false;\n",
       "        &lt;/script&gt;\n",
       "    \n",
       "    &lt;style&gt;html, body {width: 100%;height: 100%;margin: 0;padding: 0;}&lt;/style&gt;\n",
       "    &lt;style&gt;#map {position:absolute;top:0;bottom:0;right:0;left:0;}&lt;/style&gt;\n",
       "    &lt;script src=&quot;https://cdn.jsdelivr.net/npm/leaflet@1.9.3/dist/leaflet.js&quot;&gt;&lt;/script&gt;\n",
       "    &lt;script src=&quot;https://code.jquery.com/jquery-3.7.1.min.js&quot;&gt;&lt;/script&gt;\n",
       "    &lt;script src=&quot;https://cdn.jsdelivr.net/npm/bootstrap@5.2.2/dist/js/bootstrap.bundle.min.js&quot;&gt;&lt;/script&gt;\n",
       "    &lt;script src=&quot;https://cdnjs.cloudflare.com/ajax/libs/Leaflet.awesome-markers/2.0.2/leaflet.awesome-markers.js&quot;&gt;&lt;/script&gt;\n",
       "    &lt;link rel=&quot;stylesheet&quot; href=&quot;https://cdn.jsdelivr.net/npm/leaflet@1.9.3/dist/leaflet.css&quot;/&gt;\n",
       "    &lt;link rel=&quot;stylesheet&quot; href=&quot;https://cdn.jsdelivr.net/npm/bootstrap@5.2.2/dist/css/bootstrap.min.css&quot;/&gt;\n",
       "    &lt;link rel=&quot;stylesheet&quot; href=&quot;https://netdna.bootstrapcdn.com/bootstrap/3.0.0/css/bootstrap.min.css&quot;/&gt;\n",
       "    &lt;link rel=&quot;stylesheet&quot; href=&quot;https://cdn.jsdelivr.net/npm/@fortawesome/fontawesome-free@6.2.0/css/all.min.css&quot;/&gt;\n",
       "    &lt;link rel=&quot;stylesheet&quot; href=&quot;https://cdnjs.cloudflare.com/ajax/libs/Leaflet.awesome-markers/2.0.2/leaflet.awesome-markers.css&quot;/&gt;\n",
       "    &lt;link rel=&quot;stylesheet&quot; href=&quot;https://cdn.jsdelivr.net/gh/python-visualization/folium/folium/templates/leaflet.awesome.rotate.min.css&quot;/&gt;\n",
       "    \n",
       "            &lt;meta name=&quot;viewport&quot; content=&quot;width=device-width,\n",
       "                initial-scale=1.0, maximum-scale=1.0, user-scalable=no&quot; /&gt;\n",
       "            &lt;style&gt;\n",
       "                #map_038b2e4cff5b358f680fd2272c7db26a {\n",
       "                    position: relative;\n",
       "                    width: 100.0%;\n",
       "                    height: 100.0%;\n",
       "                    left: 0.0%;\n",
       "                    top: 0.0%;\n",
       "                }\n",
       "                .leaflet-container { font-size: 1rem; }\n",
       "            &lt;/style&gt;\n",
       "        \n",
       "&lt;/head&gt;\n",
       "&lt;body&gt;\n",
       "    \n",
       "    \n",
       "            &lt;div class=&quot;folium-map&quot; id=&quot;map_038b2e4cff5b358f680fd2272c7db26a&quot; &gt;&lt;/div&gt;\n",
       "        \n",
       "&lt;/body&gt;\n",
       "&lt;script&gt;\n",
       "    \n",
       "    \n",
       "            var map_038b2e4cff5b358f680fd2272c7db26a = L.map(\n",
       "                &quot;map_038b2e4cff5b358f680fd2272c7db26a&quot;,\n",
       "                {\n",
       "                    center: [0.0, 0.0],\n",
       "                    crs: L.CRS.EPSG3857,\n",
       "                    zoom: 3,\n",
       "                    zoomControl: true,\n",
       "                    preferCanvas: false,\n",
       "                }\n",
       "            );\n",
       "\n",
       "            \n",
       "\n",
       "        \n",
       "    \n",
       "            var tile_layer_9f5a8d78c87f8f6d5e5db3c48bab7459 = L.tileLayer(\n",
       "                &quot;https://tile.openstreetmap.org/{z}/{x}/{y}.png&quot;,\n",
       "                {&quot;attribution&quot;: &quot;\\u0026copy; \\u003ca href=\\&quot;https://www.openstreetmap.org/copyright\\&quot;\\u003eOpenStreetMap\\u003c/a\\u003e contributors&quot;, &quot;detectRetina&quot;: false, &quot;maxNativeZoom&quot;: 19, &quot;maxZoom&quot;: 19, &quot;minZoom&quot;: 0, &quot;noWrap&quot;: false, &quot;opacity&quot;: 1, &quot;subdomains&quot;: &quot;abc&quot;, &quot;tms&quot;: false}\n",
       "            );\n",
       "        \n",
       "    \n",
       "            tile_layer_9f5a8d78c87f8f6d5e5db3c48bab7459.addTo(map_038b2e4cff5b358f680fd2272c7db26a);\n",
       "        \n",
       "    \n",
       "            var marker_1eb3ca7dcf20043da2bccacab8fb5c00 = L.marker(\n",
       "                [33.782519, -117.228648],\n",
       "                {}\n",
       "            ).addTo(map_038b2e4cff5b358f680fd2272c7db26a);\n",
       "        \n",
       "    \n",
       "        var popup_0ba5e0bad1370a915f434bd6a416ef27 = L.popup({&quot;maxWidth&quot;: &quot;100%&quot;});\n",
       "\n",
       "        \n",
       "            \n",
       "                var html_dae28591e847d620531bd0fda2bfca6d = $(`&lt;div id=&quot;html_dae28591e847d620531bd0fda2bfca6d&quot; style=&quot;width: 100.0%; height: 100.0%;&quot;&gt;Perris&lt;/div&gt;`)[0];\n",
       "                popup_0ba5e0bad1370a915f434bd6a416ef27.setContent(html_dae28591e847d620531bd0fda2bfca6d);\n",
       "            \n",
       "        \n",
       "\n",
       "        marker_1eb3ca7dcf20043da2bccacab8fb5c00.bindPopup(popup_0ba5e0bad1370a915f434bd6a416ef27)\n",
       "        ;\n",
       "\n",
       "        \n",
       "    \n",
       "    \n",
       "            var marker_71069835a3fb79bc72dc249633b75db6 = L.marker(\n",
       "                [40.7127492, -74.0059945],\n",
       "                {}\n",
       "            ).addTo(map_038b2e4cff5b358f680fd2272c7db26a);\n",
       "        \n",
       "    \n",
       "        var popup_4becc88a668f02ee387690bf5238d902 = L.popup({&quot;maxWidth&quot;: &quot;100%&quot;});\n",
       "\n",
       "        \n",
       "            \n",
       "                var html_36144f1efb2d6733fe21903054e5148e = $(`&lt;div id=&quot;html_36144f1efb2d6733fe21903054e5148e&quot; style=&quot;width: 100.0%; height: 100.0%;&quot;&gt;New York&lt;/div&gt;`)[0];\n",
       "                popup_4becc88a668f02ee387690bf5238d902.setContent(html_36144f1efb2d6733fe21903054e5148e);\n",
       "            \n",
       "        \n",
       "\n",
       "        marker_71069835a3fb79bc72dc249633b75db6.bindPopup(popup_4becc88a668f02ee387690bf5238d902)\n",
       "        ;\n",
       "\n",
       "        \n",
       "    \n",
       "    \n",
       "            var marker_2cd3463292815ad13e65c0181d38d3b2 = L.marker(\n",
       "                [37.0743595873945, -119.699375153073],\n",
       "                {}\n",
       "            ).addTo(map_038b2e4cff5b358f680fd2272c7db26a);\n",
       "        \n",
       "    \n",
       "        var popup_328f453cf3a7601ed4ea686ef4a34edf = L.popup({&quot;maxWidth&quot;: &quot;100%&quot;});\n",
       "\n",
       "        \n",
       "            \n",
       "                var html_19c05c6c06212abd2293e5ab1d6ad833 = $(`&lt;div id=&quot;html_19c05c6c06212abd2293e5ab1d6ad833&quot; style=&quot;width: 100.0%; height: 100.0%;&quot;&gt;california&lt;/div&gt;`)[0];\n",
       "                popup_328f453cf3a7601ed4ea686ef4a34edf.setContent(html_19c05c6c06212abd2293e5ab1d6ad833);\n",
       "            \n",
       "        \n",
       "\n",
       "        marker_2cd3463292815ad13e65c0181d38d3b2.bindPopup(popup_328f453cf3a7601ed4ea686ef4a34edf)\n",
       "        ;\n",
       "\n",
       "        \n",
       "    \n",
       "&lt;/script&gt;\n",
       "&lt;/html&gt;\" style=\"position:absolute;width:100%;height:100%;left:0;top:0;border:none !important;\" allowfullscreen webkitallowfullscreen mozallowfullscreen></iframe></div></div>"
      ],
      "text/plain": [
       "<folium.folium.Map at 0x20d28361c30>"
      ]
     },
     "metadata": {},
     "output_type": "display_data"
    }
   ],
   "source": [
    "import requests\n",
    "import folium\n",
    "from IPython.display import display, HTML\n",
    "\n",
    "# Replace 'YOUR_MAPBOX_ACCESS_TOKEN' with your actual Mapbox access token\n",
    "MAPBOX_ACCESS_TOKEN = 'pk.eyJ1IjoicmF6YS05OCIsImEiOiJjbHEzaWJkdjEwZHhsMnNseHdjcG5xM2x5In0.YJhEoq8E7Rdne1fSidrfBQ'\n",
    "\n",
    "# Mapbox Geocoding API endpoint\n",
    "geocoding_endpoint = 'https://api.mapbox.com/geocoding/v5/mapbox.places/'\n",
    "\n",
    "# List of locations to search\n",
    "locations_to_search = [\"Perris\", \"New York\", \"california\"]\n",
    "\n",
    "# Map style with attribution\n",
    "map_style = \"CartoDB positron\"  # Example style with attribution\n",
    "\n",
    "# Initialize the map with an arbitrary initial location\n",
    "initial_coordinates = [0, 0]\n",
    "m = folium.Map(location=initial_coordinates, zoom_start=3,)\n",
    "\n",
    "# Loop through the list of locations\n",
    "for location_query in locations_to_search:\n",
    "    # Construct the URL for the geocoding request\n",
    "    url = f'{geocoding_endpoint}{location_query}.json?access_token={MAPBOX_ACCESS_TOKEN}'\n",
    "\n",
    "    # Make the request to Mapbox Geocoding API\n",
    "    response = requests.get(url)\n",
    "\n",
    "    # Check if the request was successful (HTTP status code 200)\n",
    "    if response.status_code == 200:\n",
    "        # Parse the JSON response\n",
    "        data = response.json()\n",
    "\n",
    "        # Extract the first result (assuming it's the most relevant)\n",
    "        first_result = data['features'][0]\n",
    "\n",
    "        # Extract latitude and longitude\n",
    "        latitude = first_result['center'][1]\n",
    "        longitude = first_result['center'][0]\n",
    "        # print(f'Location: {location_query}')\n",
    "        print(f'Latitude: {latitude}, Longitude: {longitude}')\n",
    "\n",
    "        # Add a marker for the geocoded location\n",
    "        folium.Marker([latitude, longitude], popup=location_query).add_to(m)\n",
    "    else:\n",
    "        print(f'Error: {response.status_code}')\n",
    "        print(response.text)\n",
    "\n",
    "# Display the updated map directly in the Jupyter notebook\n",
    "display(m)\n"
   ]
  },
  {
   "cell_type": "code",
   "execution_count": null,
   "metadata": {},
   "outputs": [],
   "source": []
  }
 ],
 "metadata": {
  "kernelspec": {
   "display_name": "Python310",
   "language": "python",
   "name": "python3"
  },
  "language_info": {
   "codemirror_mode": {
    "name": "ipython",
    "version": 3
   },
   "file_extension": ".py",
   "mimetype": "text/x-python",
   "name": "python",
   "nbconvert_exporter": "python",
   "pygments_lexer": "ipython3",
   "version": "3.10.11"
  }
 },
 "nbformat": 4,
 "nbformat_minor": 2
}
