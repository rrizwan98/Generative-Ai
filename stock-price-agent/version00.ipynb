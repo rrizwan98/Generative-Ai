{
 "cells": [
  {
   "cell_type": "code",
   "execution_count": 1,
   "metadata": {},
   "outputs": [],
   "source": [
    "import requests\n",
    "import folium\n",
    "from IPython.display import display, HTML, clear_output\n",
    "import webbrowser\n",
    "from folium import plugins\n",
    "import requests\n",
    "import os\n",
    "import json\n",
    "from IPython.display import display, HTML\n",
    "from dotenv import load_dotenv, find_dotenv"
   ]
  },
  {
   "cell_type": "code",
   "execution_count": 2,
   "metadata": {},
   "outputs": [],
   "source": [
    "from dotenv import load_dotenv, find_dotenv\n",
    "\n",
    "load_dotenv()\n",
    "\n",
    "POLYGON_API_KEY = os.getenv(\"POLYGON_API_KEY\")\n",
    "OPENAI_API_KEY = os.getenv(\"OPENAI_API_KEY\")\n",
    "# display(OPENAI_API_KEY)\n",
    "# display(POLYGON_API_KEY)"
   ]
  },
  {
   "cell_type": "code",
   "execution_count": 3,
   "metadata": {},
   "outputs": [
    {
     "name": "stdout",
     "output_type": "stream",
     "text": [
      "https://api.polygon.io/v2/reference/financials/pepsi?limit=5&apikey=Rw8y1xSlJzXc3L3o60b541Odex793gHU\n"
     ]
    }
   ],
   "source": [
    "# Define financial statement functions\n",
    "base_url = \"https://api.polygon.io\"\n",
    "ticker = \"pepsi\"\n",
    "limit = 5\n",
    "POLYGON_API_KEY = POLYGON_API_KEY\n",
    "url = f'{base_url}/v2/reference/financials/{ticker}?limit={limit}&apikey={POLYGON_API_KEY}'\n",
    "response = requests.get(url)\n",
    "print(url)\n"
   ]
  },
  {
   "cell_type": "code",
   "execution_count": null,
   "metadata": {},
   "outputs": [],
   "source": [
    "from yahoo_fin.stock_info import *"
   ]
  },
  {
   "cell_type": "code",
   "execution_count": 4,
   "metadata": {},
   "outputs": [],
   "source": [
    "def get_stock_price(ticker:str)-> str:\n",
    "    # Define financial statement functions\n",
    "    base_url = \"https://api.polygon.io\"\n",
    "    ticker = \"pepsi\"\n",
    "    limit = 5\n",
    "    # POLYGON_API_KEY = POLYGON_API_KEY\n",
    "    url = f'{base_url}/v2/reference/financials/{ticker}?limit={limit}&apikey={POLYGON_API_KEY}'\n",
    "    response = requests.get(url)\n",
    "    return json.dumps(response.json())"
   ]
  },
  {
   "cell_type": "code",
   "execution_count": 5,
   "metadata": {},
   "outputs": [],
   "source": [
    "from openai import OpenAI\n",
    "from dotenv import load_dotenv, find_dotenv\n",
    "import os\n",
    "\n",
    "# _ : bool = load_dotenv(find_dotenv()) # read local .env file\n",
    "\n",
    "client : OpenAI = OpenAI(api_key=OPENAI_API_KEY)"
   ]
  },
  {
   "cell_type": "code",
   "execution_count": 6,
   "metadata": {},
   "outputs": [],
   "source": [
    "# Map available functions\n",
    "available_functions = {\n",
    "    \"get_stock_price\": get_stock_price,\n",
    "}"
   ]
  },
  {
   "cell_type": "code",
   "execution_count": 7,
   "metadata": {},
   "outputs": [],
   "source": [
    "# A Class to Manage All Open API Assistant Calls and Functions\n",
    "from openai.types.beta.threads import Run, ThreadMessage\n",
    "from openai.types.beta.thread import Thread\n",
    "from openai.types.beta.assistant_create_params import Tool\n",
    "\n",
    "import time\n",
    "\n",
    "class StockPriceAssistantManager:\n",
    "    def __init__(self, model: str = \"gpt-3.5-turbo-1106\"):\n",
    "        self.client = OpenAI()\n",
    "        self.model = model\n",
    "        self.assistant = None\n",
    "        self.thread = None\n",
    "        self.run = None\n",
    "\n",
    "    def create_assistant(self, name: str, instructions: str, tools: list[Tool]) -> None:\n",
    "        self.assistant = self.client.beta.assistants.create(\n",
    "            name=name,\n",
    "            instructions=instructions,\n",
    "            tools=tools,\n",
    "            model=self.model\n",
    "        )\n",
    "\n",
    "    def create_thread(self) -> Thread:\n",
    "        self.thread = self.client.beta.threads.create()\n",
    "        return self.thread\n",
    "\n",
    "    def add_message_to_thread(self, role: str, content: str) -> None:\n",
    "        self.client.beta.threads.messages.create(\n",
    "            thread_id=self.thread.id,\n",
    "            role=role,\n",
    "            content=content\n",
    "        )\n",
    "\n",
    "    def run_assistant(self, instructions: str) -> Run:\n",
    "        self.run = self.client.beta.threads.runs.create(\n",
    "            thread_id=self.thread.id,\n",
    "            assistant_id=self.assistant.id,\n",
    "            instructions=instructions\n",
    "        )\n",
    "        return self.run\n",
    "\n",
    "    def wait_for_completion(self, run: Run, thread: Thread) -> Run:\n",
    "\n",
    "        while run.status in [\"in_progress\", \"queued\"]:\n",
    "            run_status = self.client.beta.threads.runs.retrieve(\n",
    "                thread_id=self.thread.id,\n",
    "                run_id=self.run.id\n",
    "            )\n",
    "            print(f\"Run is {run.status}. Waiting...\")\n",
    "            time.sleep(3)  # Wait for 3 seconds before checking again\n",
    "\n",
    "            if run_status.status == 'completed':\n",
    "                processed_response = self.process_messages()\n",
    "                return processed_response\n",
    "                # break\n",
    "            elif run_status.status == 'requires_action':\n",
    "                print(\"Function Calling ...\")\n",
    "                self.call_required_functions(run_status.required_action.submit_tool_outputs.model_dump())\n",
    "            elif run.status == \"failed\":\n",
    "                print(\"Run failed.\")\n",
    "                break\n",
    "            else:\n",
    "                print(f\"Waiting for the Assistant to process...: {run.status}\")\n",
    "\n",
    "    def process_messages(self) -> list[ThreadMessage]:\n",
    "        messages: list[ThreadMessage] = self.client.beta.threads.messages.list(thread_id=self.thread.id)\n",
    "        return messages\n",
    "\n",
    "    def call_required_functions(self, required_actions: dict):\n",
    "        tool_outputs = []\n",
    "\n",
    "        for action in required_actions[\"tool_calls\"]:\n",
    "            function_name = action['function']['name']\n",
    "            arguments = json.loads(action['function']['arguments'])\n",
    "            print('function_name', function_name)\n",
    "            print('function_arguments', arguments)\n",
    "\n",
    "            if function_name in available_functions:\n",
    "                    function_to_call = available_functions[function_name]\n",
    "                    output = function_to_call(**arguments)\n",
    "                    tool_outputs.append({\n",
    "                        \"tool_call_id\": action['id'],\n",
    "                        \"output\": output,\n",
    "                    })\n",
    "\n",
    "            else:\n",
    "                raise ValueError(f\"Unknown function: {function_name}\")\n",
    "\n",
    "        print(\"Submitting outputs back to the Assistant...\")\n",
    "        self.client.beta.threads.runs.submit_tool_outputs(\n",
    "            thread_id=self.thread.id,\n",
    "            run_id=self.run.id,\n",
    "            tool_outputs=tool_outputs\n",
    "        )"
   ]
  },
  {
   "cell_type": "code",
   "execution_count": 8,
   "metadata": {},
   "outputs": [],
   "source": [
    "# Show Messages and Plot Images in Financial Analysis If ANY\n",
    "\n",
    "import requests\n",
    "from PIL import Image\n",
    "from IPython.display import Image, display\n",
    "\n",
    "\n",
    "def download_and_save_image(file_id: str, save_path: str) -> None:\n",
    "    \"\"\"\n",
    "    Downloads an image from OpenAI using its file ID and saves it to the specified path.\n",
    "\n",
    "    Args:\n",
    "    - file_id (str): The ID of the file to download.\n",
    "    - save_path (str): The path where the image will be saved.\n",
    "\n",
    "    Returns:\n",
    "    - None\n",
    "    \"\"\"\n",
    "    # Construct the URL to download the image\n",
    "    download_url = f\"https://api.openai.com/v1/files/{file_id}/content\"\n",
    "\n",
    "    # Perform the HTTP GET request to download the image\n",
    "    response = requests.get(download_url, headers={\"Authorization\": f'Bearer {os.getenv(\"OPENAI_API_KEY\")}'})\n",
    "\n",
    "    # Check if the request was successful\n",
    "    if response.status_code == 200:\n",
    "        # Write the image to the specified file\n",
    "        with open(save_path, 'wb') as file:\n",
    "            file.write(response.content)\n",
    "        print(f\"Image downloaded and saved to {save_path}\")\n",
    "    else:\n",
    "        print(f\"Failed to download image: HTTP Status Code {response.status_code}\")\n",
    "\n",
    "\n",
    "def pretty_print(messages: list[ThreadMessage]) -> None:\n",
    "    print(\"# Messages\")\n",
    "    for message in messages.data:\n",
    "        role_label = \"User\" if message.role == \"user\" else \"Assistant\"\n",
    "        # Check the type of message content and handle accordingly\n",
    "        for content in message.content:\n",
    "            if content.type == \"text\":\n",
    "                message_content = content.text.value\n",
    "                print(f\"{role_label}: {message_content}\\n\")\n",
    "                print()\n",
    "            elif content.type == \"image_file\":\n",
    "                # Handle image file content, e.g., print the file ID or download the image\n",
    "                image_file_id = content.image_file.file_id\n",
    "                print(f\"{role_label}: Image file ID: {image_file_id}\")\n",
    "                # Define a path to save the image\n",
    "                image_save_path = f\"image_{image_file_id}.png\"\n",
    "                # Download and save the image\n",
    "                # print(f\"{role_label}: Image file ID: {image_file_id}\")\n",
    "                download_and_save_image(image_file_id, image_save_path)\n",
    "\n",
    "                # Display the image within Jupyter Notebook\n",
    "                display(Image(filename=image_save_path))\n",
    "\n",
    "                #   # Open and display the image\n",
    "                # try:\n",
    "                #     img = Image.open(image_save_path)\n",
    "                #     img.show()\n",
    "                # except IOError:\n",
    "                #     print(\"Error in opening the image file.\")"
   ]
  },
  {
   "cell_type": "code",
   "execution_count": 9,
   "metadata": {},
   "outputs": [],
   "source": [
    "tools = [\n",
    "    {\"type\": \"code_interpreter\"},\n",
    "    {\n",
    "        \"type\": \"function\",\n",
    "        \"function\": {\n",
    "            \"name\": \"get_stock_price\",\n",
    "            \"parameters\": {\n",
    "                \"type\": \"object\",\n",
    "                \"properties\": {\n",
    "                    \"ticker\": {\"type\": \"string\"},\n",
    "                },\n",
    "                \"required\": [\"ticker\"],\n",
    "            }\n",
    "        }\n",
    "    },\n",
    "    \n",
    "]"
   ]
  },
  {
   "cell_type": "code",
   "execution_count": 10,
   "metadata": {},
   "outputs": [],
   "source": [
    "bot_instructions = \"Act as a financial analyst by accessing detailed historical stock price data through the polygon.io API. Your capabilities include, tracking stock price, you are an expert in discous stock price prediction.\" "
   ]
  },
  {
   "cell_type": "code",
   "execution_count": 11,
   "metadata": {},
   "outputs": [],
   "source": [
    "def poly_stockprice_analyst(prompt: str):\n",
    "    fmp_analyst = StockPriceAssistantManager()\n",
    "\n",
    "    fmp_analyst.create_assistant(\n",
    "        name=\"stock price\",\n",
    "        instructions=bot_instructions,\n",
    "        tools=tools\n",
    "    )\n",
    "\n",
    "    fmp_analyst.create_thread()\n",
    "\n",
    "    fmp_analyst.add_message_to_thread(\n",
    "        role=\"user\",\n",
    "        content=prompt\n",
    "    )\n",
    "\n",
    "    run = fmp_analyst.run_assistant(\n",
    "        instructions=bot_instructions\n",
    "    )\n",
    "\n",
    "    final_res = fmp_analyst.wait_for_completion(\n",
    "        run=run,\n",
    "        thread=fmp_analyst.thread\n",
    "    )\n",
    "\n",
    "    return final_res\n",
    "    "
   ]
  },
  {
   "cell_type": "code",
   "execution_count": 14,
   "metadata": {},
   "outputs": [
    {
     "name": "stdout",
     "output_type": "stream",
     "text": [
      "Run is queued. Waiting...\n",
      "Waiting for the Assistant to process...: queued\n",
      "Run is queued. Waiting...\n",
      "Function Calling ...\n",
      "function_name get_stock_price\n",
      "function_arguments {'ticker': 'GOOGL'}\n",
      "Submitting outputs back to the Assistant...\n",
      "Run is queued. Waiting...\n",
      "Waiting for the Assistant to process...: queued\n",
      "Run is queued. Waiting...\n",
      "Function Calling ...\n",
      "function_name get_stock_price\n",
      "function_arguments {'ticker': 'GOOG'}\n",
      "Submitting outputs back to the Assistant...\n",
      "Run is queued. Waiting...\n",
      "Waiting for the Assistant to process...: queued\n",
      "Run is queued. Waiting...\n",
      "Waiting for the Assistant to process...: queued\n",
      "Run is queued. Waiting...\n"
     ]
    }
   ],
   "source": [
    "analysis1 = poly_stockprice_analyst(\"stock price of Google\")"
   ]
  },
  {
   "cell_type": "code",
   "execution_count": 15,
   "metadata": {},
   "outputs": [
    {
     "name": "stdout",
     "output_type": "stream",
     "text": [
      "# Messages\n",
      "Assistant: I'm sorry, but it looks like I was unable to retrieve the stock price information for Google (GOOGL). This could be due to an issue with the data source. If there's another stock you'd like me to gather information on, please feel free to let me know.\n",
      "\n",
      "\n",
      "Assistant: It seems that I was unable to obtain the stock price for Google (GOOGL) using the designated data source. I'll attempt to fetch the data again.\n",
      "\n",
      "\n",
      "User: stock price of Google\n",
      "\n",
      "\n"
     ]
    }
   ],
   "source": [
    "pretty_print(analysis1)"
   ]
  },
  {
   "cell_type": "code",
   "execution_count": null,
   "metadata": {},
   "outputs": [],
   "source": []
  }
 ],
 "metadata": {
  "kernelspec": {
   "display_name": "Python310",
   "language": "python",
   "name": "python3"
  },
  "language_info": {
   "codemirror_mode": {
    "name": "ipython",
    "version": 3
   },
   "file_extension": ".py",
   "mimetype": "text/x-python",
   "name": "python",
   "nbconvert_exporter": "python",
   "pygments_lexer": "ipython3",
   "version": "3.10.11"
  }
 },
 "nbformat": 4,
 "nbformat_minor": 2
}
